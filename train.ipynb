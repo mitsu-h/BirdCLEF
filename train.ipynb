{
  "cells": [
    {
      "cell_type": "markdown",
      "metadata": {
        "id": "view-in-github",
        "colab_type": "text"
      },
      "source": [
        "<a href=\"https://colab.research.google.com/github/mitsu-h/BirdCLEF/blob/data-augmentation/train.ipynb\" target=\"_parent\"><img src=\"https://colab.research.google.com/assets/colab-badge.svg\" alt=\"Open In Colab\"/></a>"
      ]
    },
    {
      "cell_type": "markdown",
      "id": "f66c33fa",
      "metadata": {
        "papermill": {
          "duration": 0.052292,
          "end_time": "2022-03-24T06:01:48.721975",
          "exception": false,
          "start_time": "2022-03-24T06:01:48.669683",
          "status": "completed"
        },
        "tags": [],
        "id": "f66c33fa"
      },
      "source": [
        "# Import Libraries"
      ]
    },
    {
      "cell_type": "code",
      "execution_count": null,
      "id": "3d0cdc40",
      "metadata": {
        "execution": {
          "iopub.execute_input": "2022-03-24T06:01:48.839653Z",
          "iopub.status.busy": "2022-03-24T06:01:48.838798Z",
          "iopub.status.idle": "2022-03-24T06:01:52.215133Z",
          "shell.execute_reply": "2022-03-24T06:01:52.214312Z",
          "shell.execute_reply.started": "2022-03-24T05:58:34.133375Z"
        },
        "papermill": {
          "duration": 3.440413,
          "end_time": "2022-03-24T06:01:52.215334",
          "exception": false,
          "start_time": "2022-03-24T06:01:48.774921",
          "status": "completed"
        },
        "tags": [],
        "id": "3d0cdc40"
      },
      "outputs": [],
      "source": [
        "# This Python 3 environment comes with many helpful analytics libraries installed\n",
        "# It is defined by the kaggle/python Docker image: https://github.com/kaggle/docker-python\n",
        "# For example, here's several helpful packages to load\n",
        "\n",
        "import numpy as np # linear algebra\n",
        "import pandas as pd # data processing, CSV file I/O (e.g. pd.read_csv)\n",
        "\n",
        "# Input data files are available in the read-only \"../input/\" directory\n",
        "# For example, running this (by clicking run or pressing Shift+Enter) will list all files under the input directory\n",
        "\n",
        "import os\n",
        "for dirname, _, filenames in os.walk('/kaggle/input'):\n",
        "    for filename in filenames:\n",
        "        print(os.path.join(dirname, filename))\n",
        "\n",
        "# You can write up to 20GB to the current directory (/kaggle/working/) that gets preserved as output when you create a version using \"Save & Run All\" \n",
        "# You can also write temporary files to /kaggle/temp/, but they won't be saved outside of the current session"
      ]
    },
    {
      "cell_type": "code",
      "source": [
        "!pip install audiomentations"
      ],
      "metadata": {
        "id": "li3Zv3SAWCRi"
      },
      "id": "li3Zv3SAWCRi",
      "execution_count": null,
      "outputs": []
    },
    {
      "cell_type": "code",
      "execution_count": null,
      "id": "bf08e367",
      "metadata": {
        "_cell_guid": "b1076dfc-b9ad-4769-8c92-a6c4dae69d19",
        "_uuid": "8f2839f25d086af736a60e9eeb907d3b93b6e0e5",
        "execution": {
          "iopub.execute_input": "2022-03-24T06:01:52.386927Z",
          "iopub.status.busy": "2022-03-24T06:01:52.386146Z",
          "iopub.status.idle": "2022-03-24T06:01:54.792502Z",
          "shell.execute_reply": "2022-03-24T06:01:54.793261Z",
          "shell.execute_reply.started": "2022-03-24T05:58:36.159113Z"
        },
        "papermill": {
          "duration": 2.494431,
          "end_time": "2022-03-24T06:01:54.793470",
          "exception": false,
          "start_time": "2022-03-24T06:01:52.299039",
          "status": "completed"
        },
        "tags": [],
        "id": "bf08e367"
      },
      "outputs": [],
      "source": [
        "import os\n",
        "import random\n",
        "import numpy as np\n",
        "import pandas as pd\n",
        "import matplotlib.pyplot as plt\n",
        "import seaborn as sns\n",
        "import soundfile as sf\n",
        "from datetime import datetime\n",
        "\n",
        "import torchaudio\n",
        "from torchaudio import transforms\n",
        "import torchvision\n",
        "from audiomentations import Compose, AddGaussianNoise, PitchShift, TimeStretch, Shift\n",
        "\n",
        "import torch\n",
        "import torch.nn as nn\n",
        "from torch.utils.data import Dataset, DataLoader\n",
        "\n",
        "from tqdm import tqdm\n",
        "from collections import defaultdict\n",
        "\n",
        "import warnings\n",
        "warnings.filterwarnings('ignore')"
      ]
    },
    {
      "cell_type": "code",
      "source": [
        "def torch_fix_seed(seed=42):\n",
        "    # Python random\n",
        "    random.seed(seed)\n",
        "    # Numpy\n",
        "    np.random.seed(seed)\n",
        "    # Pytorch\n",
        "    torch.manual_seed(seed)\n",
        "    torch.cuda.manual_seed(seed)\n",
        "    torch.backends.cudnn.deterministic = True\n",
        "    torch.use_deterministic_algorithms = True\n",
        "\n",
        "\n",
        "torch_fix_seed()"
      ],
      "metadata": {
        "id": "tvHifIWc2zD-"
      },
      "execution_count": null,
      "outputs": [],
      "id": "tvHifIWc2zD-"
    },
    {
      "cell_type": "markdown",
      "id": "9c7b8a33",
      "metadata": {
        "papermill": {
          "duration": 0.072465,
          "end_time": "2022-03-24T06:01:54.937721",
          "exception": false,
          "start_time": "2022-03-24T06:01:54.865256",
          "status": "completed"
        },
        "tags": [],
        "id": "9c7b8a33"
      },
      "source": [
        "# Load Data"
      ]
    },
    {
      "cell_type": "code",
      "source": [
        "from google.colab import drive\n",
        "drive.mount('/content/drive')\n",
        "root_dir=\"/content/drive/MyDrive/colab/BirdCLEF/\"\n",
        "data_dir= os.path.join(root_dir, \"inputs/\")\n",
        "model_dir = os.path.join(root_dir, \"models/\")"
      ],
      "metadata": {
        "id": "0OCleE3RXUQF"
      },
      "id": "0OCleE3RXUQF",
      "execution_count": null,
      "outputs": []
    },
    {
      "cell_type": "code",
      "execution_count": null,
      "id": "10cdb6df",
      "metadata": {
        "execution": {
          "iopub.execute_input": "2022-03-24T06:01:55.084919Z",
          "iopub.status.busy": "2022-03-24T06:01:55.084336Z",
          "iopub.status.idle": "2022-03-24T06:01:55.197264Z",
          "shell.execute_reply": "2022-03-24T06:01:55.197704Z",
          "shell.execute_reply.started": "2022-03-24T05:58:36.166571Z"
        },
        "papermill": {
          "duration": 0.189177,
          "end_time": "2022-03-24T06:01:55.197851",
          "exception": false,
          "start_time": "2022-03-24T06:01:55.008674",
          "status": "completed"
        },
        "tags": [],
        "id": "10cdb6df"
      },
      "outputs": [],
      "source": [
        "train_df = pd.read_csv(os.path.join(data_dir, 'train_metadata.csv'))\n",
        "train_df.head()"
      ]
    },
    {
      "cell_type": "markdown",
      "id": "ef2675f1",
      "metadata": {
        "papermill": {
          "duration": 0.072072,
          "end_time": "2022-03-24T06:01:55.342024",
          "exception": false,
          "start_time": "2022-03-24T06:01:55.269952",
          "status": "completed"
        },
        "tags": [],
        "id": "ef2675f1"
      },
      "source": [
        "# Quick EDA and Data Pre-processing"
      ]
    },
    {
      "cell_type": "code",
      "execution_count": null,
      "id": "17a9dba2",
      "metadata": {
        "execution": {
          "iopub.execute_input": "2022-03-24T06:01:55.490530Z",
          "iopub.status.busy": "2022-03-24T06:01:55.489908Z",
          "iopub.status.idle": "2022-03-24T06:01:55.492563Z",
          "shell.execute_reply": "2022-03-24T06:01:55.492957Z",
          "shell.execute_reply.started": "2022-03-24T05:58:36.243753Z"
        },
        "papermill": {
          "duration": 0.079321,
          "end_time": "2022-03-24T06:01:55.493085",
          "exception": false,
          "start_time": "2022-03-24T06:01:55.413764",
          "status": "completed"
        },
        "tags": [],
        "id": "17a9dba2"
      },
      "outputs": [],
      "source": [
        "train_df.shape"
      ]
    },
    {
      "cell_type": "code",
      "execution_count": null,
      "id": "0be079a6",
      "metadata": {
        "execution": {
          "iopub.execute_input": "2022-03-24T06:01:55.650190Z",
          "iopub.status.busy": "2022-03-24T06:01:55.649356Z",
          "iopub.status.idle": "2022-03-24T06:01:55.668035Z",
          "shell.execute_reply": "2022-03-24T06:01:55.668539Z",
          "shell.execute_reply.started": "2022-03-24T05:58:36.251810Z"
        },
        "papermill": {
          "duration": 0.104483,
          "end_time": "2022-03-24T06:01:55.668690",
          "exception": false,
          "start_time": "2022-03-24T06:01:55.564207",
          "status": "completed"
        },
        "tags": [],
        "id": "0be079a6"
      },
      "outputs": [],
      "source": [
        "train_df.describe()"
      ]
    },
    {
      "cell_type": "code",
      "execution_count": null,
      "id": "e351bbf2",
      "metadata": {
        "execution": {
          "iopub.execute_input": "2022-03-24T06:01:55.835179Z",
          "iopub.status.busy": "2022-03-24T06:01:55.834235Z",
          "iopub.status.idle": "2022-03-24T06:01:55.864584Z",
          "shell.execute_reply": "2022-03-24T06:01:55.863964Z",
          "shell.execute_reply.started": "2022-03-24T05:58:36.277404Z"
        },
        "papermill": {
          "duration": 0.1112,
          "end_time": "2022-03-24T06:01:55.864742",
          "exception": false,
          "start_time": "2022-03-24T06:01:55.753542",
          "status": "completed"
        },
        "tags": [],
        "id": "e351bbf2"
      },
      "outputs": [],
      "source": [
        "train_df.info()"
      ]
    },
    {
      "cell_type": "markdown",
      "id": "66b8d58c",
      "metadata": {
        "papermill": {
          "duration": 0.077177,
          "end_time": "2022-03-24T06:01:56.021174",
          "exception": false,
          "start_time": "2022-03-24T06:01:55.943997",
          "status": "completed"
        },
        "tags": [],
        "id": "66b8d58c"
      },
      "source": [
        "Looks like no null values are there."
      ]
    },
    {
      "cell_type": "code",
      "execution_count": null,
      "id": "35f80ace",
      "metadata": {
        "execution": {
          "iopub.execute_input": "2022-03-24T06:01:56.191272Z",
          "iopub.status.busy": "2022-03-24T06:01:56.190312Z",
          "iopub.status.idle": "2022-03-24T06:01:56.194250Z",
          "shell.execute_reply": "2022-03-24T06:01:56.194669Z",
          "shell.execute_reply.started": "2022-03-24T05:58:36.306456Z"
        },
        "papermill": {
          "duration": 0.096079,
          "end_time": "2022-03-24T06:01:56.194810",
          "exception": false,
          "start_time": "2022-03-24T06:01:56.098731",
          "status": "completed"
        },
        "tags": [],
        "id": "35f80ace"
      },
      "outputs": [],
      "source": [
        "# For this baseline notebook, we would consider following columns \n",
        "columns_of_interest = ['primary_label', 'rating', 'filename']\n",
        "train_df = train_df[columns_of_interest]\n",
        "train_df.head()"
      ]
    },
    {
      "cell_type": "code",
      "execution_count": null,
      "id": "c02ae357",
      "metadata": {
        "execution": {
          "iopub.execute_input": "2022-03-24T06:01:56.368959Z",
          "iopub.status.busy": "2022-03-24T06:01:56.368253Z",
          "iopub.status.idle": "2022-03-24T06:01:56.639606Z",
          "shell.execute_reply": "2022-03-24T06:01:56.639159Z",
          "shell.execute_reply.started": "2022-03-24T05:58:36.320563Z"
        },
        "papermill": {
          "duration": 0.357913,
          "end_time": "2022-03-24T06:01:56.639736",
          "exception": false,
          "start_time": "2022-03-24T06:01:56.281823",
          "status": "completed"
        },
        "tags": [],
        "id": "c02ae357"
      },
      "outputs": [],
      "source": [
        "f, ax = plt.subplots(figsize=(20,8))\n",
        "sns.countplot(x='rating', data=train_df, ax=ax)"
      ]
    },
    {
      "cell_type": "markdown",
      "id": "c98c4d27",
      "metadata": {
        "papermill": {
          "duration": 0.073494,
          "end_time": "2022-03-24T06:01:56.787896",
          "exception": false,
          "start_time": "2022-03-24T06:01:56.714402",
          "status": "completed"
        },
        "tags": [],
        "id": "c98c4d27"
      },
      "source": [
        "we will consider only those audio files whose rating >= 3.0"
      ]
    },
    {
      "cell_type": "code",
      "execution_count": null,
      "id": "4426f985",
      "metadata": {
        "execution": {
          "iopub.execute_input": "2022-03-24T06:01:56.941904Z",
          "iopub.status.busy": "2022-03-24T06:01:56.941149Z",
          "iopub.status.idle": "2022-03-24T06:01:56.944421Z",
          "shell.execute_reply": "2022-03-24T06:01:56.944030Z",
          "shell.execute_reply.started": "2022-03-24T05:58:36.576664Z"
        },
        "papermill": {
          "duration": 0.082325,
          "end_time": "2022-03-24T06:01:56.944561",
          "exception": false,
          "start_time": "2022-03-24T06:01:56.862236",
          "status": "completed"
        },
        "tags": [],
        "id": "4426f985"
      },
      "outputs": [],
      "source": [
        "train_df = train_df[train_df.rating >= 3.0]"
      ]
    },
    {
      "cell_type": "code",
      "execution_count": null,
      "id": "c52a4fb3",
      "metadata": {
        "execution": {
          "iopub.execute_input": "2022-03-24T06:01:57.104915Z",
          "iopub.status.busy": "2022-03-24T06:01:57.104252Z",
          "iopub.status.idle": "2022-03-24T06:01:57.107155Z",
          "shell.execute_reply": "2022-03-24T06:01:57.107573Z",
          "shell.execute_reply.started": "2022-03-24T05:58:36.586679Z"
        },
        "papermill": {
          "duration": 0.08958,
          "end_time": "2022-03-24T06:01:57.107710",
          "exception": false,
          "start_time": "2022-03-24T06:01:57.018130",
          "status": "completed"
        },
        "tags": [],
        "id": "c52a4fb3"
      },
      "outputs": [],
      "source": [
        "train_df = train_df.reset_index(drop=True)\n",
        "train_df.head()"
      ]
    },
    {
      "cell_type": "code",
      "execution_count": null,
      "id": "21e78526",
      "metadata": {
        "execution": {
          "iopub.execute_input": "2022-03-24T06:01:57.261890Z",
          "iopub.status.busy": "2022-03-24T06:01:57.261343Z",
          "iopub.status.idle": "2022-03-24T06:01:57.265232Z",
          "shell.execute_reply": "2022-03-24T06:01:57.265677Z",
          "shell.execute_reply.started": "2022-03-24T05:58:36.600215Z"
        },
        "papermill": {
          "duration": 0.083002,
          "end_time": "2022-03-24T06:01:57.265806",
          "exception": false,
          "start_time": "2022-03-24T06:01:57.182804",
          "status": "completed"
        },
        "tags": [],
        "id": "21e78526"
      },
      "outputs": [],
      "source": [
        "labels = train_df.primary_label.unique().tolist()"
      ]
    },
    {
      "cell_type": "code",
      "execution_count": null,
      "id": "6b2e1a2f",
      "metadata": {
        "execution": {
          "iopub.execute_input": "2022-03-24T06:01:57.464054Z",
          "iopub.status.busy": "2022-03-24T06:01:57.463279Z",
          "iopub.status.idle": "2022-03-24T06:01:57.465727Z",
          "shell.execute_reply": "2022-03-24T06:01:57.465262Z",
          "shell.execute_reply.started": "2022-03-24T05:58:36.607164Z"
        },
        "papermill": {
          "duration": 0.125958,
          "end_time": "2022-03-24T06:01:57.465838",
          "exception": false,
          "start_time": "2022-03-24T06:01:57.339880",
          "status": "completed"
        },
        "tags": [],
        "id": "6b2e1a2f"
      },
      "outputs": [],
      "source": [
        "label2id = {labels[i]: i for i in range(len(labels))}"
      ]
    },
    {
      "cell_type": "code",
      "execution_count": null,
      "id": "af60ec5d",
      "metadata": {
        "execution": {
          "iopub.execute_input": "2022-03-24T06:01:57.618877Z",
          "iopub.status.busy": "2022-03-24T06:01:57.618234Z",
          "iopub.status.idle": "2022-03-24T06:01:57.620871Z",
          "shell.execute_reply": "2022-03-24T06:01:57.621261Z",
          "shell.execute_reply.started": "2022-03-24T05:58:36.615869Z"
        },
        "papermill": {
          "duration": 0.081681,
          "end_time": "2022-03-24T06:01:57.621388",
          "exception": false,
          "start_time": "2022-03-24T06:01:57.539707",
          "status": "completed"
        },
        "tags": [],
        "id": "af60ec5d"
      },
      "outputs": [],
      "source": [
        "labels[0], label2id['afrsil1']"
      ]
    },
    {
      "cell_type": "code",
      "execution_count": null,
      "id": "07bee216",
      "metadata": {
        "execution": {
          "iopub.execute_input": "2022-03-24T06:01:57.774040Z",
          "iopub.status.busy": "2022-03-24T06:01:57.773324Z",
          "iopub.status.idle": "2022-03-24T06:01:57.776046Z",
          "shell.execute_reply": "2022-03-24T06:01:57.776410Z",
          "shell.execute_reply.started": "2022-03-24T05:58:36.628189Z"
        },
        "papermill": {
          "duration": 0.080693,
          "end_time": "2022-03-24T06:01:57.776566",
          "exception": false,
          "start_time": "2022-03-24T06:01:57.695873",
          "status": "completed"
        },
        "tags": [],
        "id": "07bee216"
      },
      "outputs": [],
      "source": [
        "train_audio_dir = os.path.join(data_dir, 'train_audio')"
      ]
    },
    {
      "cell_type": "code",
      "execution_count": null,
      "id": "636e05b1",
      "metadata": {
        "execution": {
          "iopub.execute_input": "2022-03-24T06:01:58.018601Z",
          "iopub.status.busy": "2022-03-24T06:01:58.017713Z",
          "iopub.status.idle": "2022-03-24T06:01:58.019946Z",
          "shell.execute_reply": "2022-03-24T06:01:58.019293Z",
          "shell.execute_reply.started": "2022-03-24T05:58:36.636243Z"
        },
        "papermill": {
          "duration": 0.139752,
          "end_time": "2022-03-24T06:01:58.020096",
          "exception": false,
          "start_time": "2022-03-24T06:01:57.880344",
          "status": "completed"
        },
        "tags": [],
        "id": "636e05b1"
      },
      "outputs": [],
      "source": [
        "# for i in tqdm(range(len(train_df))):\n",
        "#     filename = train_df.loc[i,'filename']\n",
        "#     sig, sr = torchaudio.load(os.path.join(train_audio_dir, filename))\n",
        "#     train_df.loc[i, 'num_channels'] = sig.shape[0]  # number of audio channels (mono/stereo)\n",
        "#     train_df.loc[i, 'signal_len'] = sig.shape[1]  # signal length\n",
        "#     train_df.loc[i, 'sampling_rate'] = sr"
      ]
    },
    {
      "cell_type": "code",
      "execution_count": null,
      "id": "1ba65961",
      "metadata": {
        "execution": {
          "iopub.execute_input": "2022-03-24T06:01:58.283075Z",
          "iopub.status.busy": "2022-03-24T06:01:58.282197Z",
          "iopub.status.idle": "2022-03-24T06:01:58.284416Z",
          "shell.execute_reply": "2022-03-24T06:01:58.283784Z",
          "shell.execute_reply.started": "2022-03-24T05:58:36.644564Z"
        },
        "papermill": {
          "duration": 0.135191,
          "end_time": "2022-03-24T06:01:58.284581",
          "exception": false,
          "start_time": "2022-03-24T06:01:58.149390",
          "status": "completed"
        },
        "tags": [],
        "id": "1ba65961"
      },
      "outputs": [],
      "source": [
        "# train_df['num_channels'] = train_df['num_channels'].astype('int64')\n",
        "# train_df['signal_len'] = train_df['signal_len'].astype('int64')\n",
        "# train_df['sampling_rate'] = train_df['sampling_rate'].astype('int64')\n",
        "# train_df.head()"
      ]
    },
    {
      "cell_type": "code",
      "execution_count": null,
      "id": "8ca9f3e7",
      "metadata": {
        "execution": {
          "iopub.execute_input": "2022-03-24T06:01:58.552168Z",
          "iopub.status.busy": "2022-03-24T06:01:58.551302Z",
          "iopub.status.idle": "2022-03-24T06:01:58.553519Z",
          "shell.execute_reply": "2022-03-24T06:01:58.552872Z",
          "shell.execute_reply.started": "2022-03-24T05:58:36.652966Z"
        },
        "papermill": {
          "duration": 0.135922,
          "end_time": "2022-03-24T06:01:58.553665",
          "exception": false,
          "start_time": "2022-03-24T06:01:58.417743",
          "status": "completed"
        },
        "tags": [],
        "id": "8ca9f3e7"
      },
      "outputs": [],
      "source": [
        "# train_df.sampling_rate.unique()"
      ]
    },
    {
      "cell_type": "markdown",
      "id": "229a6be9",
      "metadata": {
        "papermill": {
          "duration": 0.140106,
          "end_time": "2022-03-24T06:01:58.821395",
          "exception": false,
          "start_time": "2022-03-24T06:01:58.681289",
          "status": "completed"
        },
        "tags": [],
        "id": "229a6be9"
      },
      "source": [
        "we have unqiue sampling rate i.e., 32 KHz\n",
        "\n",
        "For a 1 second video, the array size will be 32000"
      ]
    },
    {
      "cell_type": "code",
      "execution_count": null,
      "id": "651b6f9e",
      "metadata": {
        "execution": {
          "iopub.execute_input": "2022-03-24T06:01:59.119243Z",
          "iopub.status.busy": "2022-03-24T06:01:59.118355Z",
          "iopub.status.idle": "2022-03-24T06:01:59.120697Z",
          "shell.execute_reply": "2022-03-24T06:01:59.120151Z",
          "shell.execute_reply.started": "2022-03-24T05:58:36.660923Z"
        },
        "papermill": {
          "duration": 0.129906,
          "end_time": "2022-03-24T06:01:59.120812",
          "exception": false,
          "start_time": "2022-03-24T06:01:58.990906",
          "status": "completed"
        },
        "tags": [],
        "id": "651b6f9e"
      },
      "outputs": [],
      "source": [
        "# sns.countplot(train_df.num_channels)"
      ]
    },
    {
      "cell_type": "markdown",
      "id": "26b283b4",
      "metadata": {
        "papermill": {
          "duration": 0.079659,
          "end_time": "2022-03-24T06:01:59.275640",
          "exception": false,
          "start_time": "2022-03-24T06:01:59.195981",
          "status": "completed"
        },
        "tags": [],
        "id": "26b283b4"
      },
      "source": [
        "There are more number of two channel audios. So we will convert mono (1 channel ) audio to stereo (2 channel) audio by replication."
      ]
    },
    {
      "cell_type": "code",
      "execution_count": null,
      "id": "8ae6d64f",
      "metadata": {
        "execution": {
          "iopub.execute_input": "2022-03-24T06:01:59.438976Z",
          "iopub.status.busy": "2022-03-24T06:01:59.438154Z",
          "iopub.status.idle": "2022-03-24T06:01:59.439966Z",
          "shell.execute_reply": "2022-03-24T06:01:59.440364Z",
          "shell.execute_reply.started": "2022-03-24T05:58:36.668498Z"
        },
        "papermill": {
          "duration": 0.081678,
          "end_time": "2022-03-24T06:01:59.440521",
          "exception": false,
          "start_time": "2022-03-24T06:01:59.358843",
          "status": "completed"
        },
        "tags": [],
        "id": "8ae6d64f"
      },
      "outputs": [],
      "source": [
        "def MonoToStereo(aud, num_channel=2):\n",
        "    sig, sr = aud\n",
        "    if sig.shape[0] == num_channel:\n",
        "        return aud\n",
        "    else:\n",
        "        stereo_sig = torch.cat([sig, sig])\n",
        "    \n",
        "    return (stereo_sig, sr)"
      ]
    },
    {
      "cell_type": "code",
      "execution_count": null,
      "id": "dd2c5d78",
      "metadata": {
        "execution": {
          "iopub.execute_input": "2022-03-24T06:01:59.592187Z",
          "iopub.status.busy": "2022-03-24T06:01:59.591424Z",
          "iopub.status.idle": "2022-03-24T06:01:59.595223Z",
          "shell.execute_reply": "2022-03-24T06:01:59.594818Z",
          "shell.execute_reply.started": "2022-03-24T05:58:36.678474Z"
        },
        "papermill": {
          "duration": 0.080636,
          "end_time": "2022-03-24T06:01:59.595333",
          "exception": false,
          "start_time": "2022-03-24T06:01:59.514697",
          "status": "completed"
        },
        "tags": [],
        "id": "dd2c5d78"
      },
      "outputs": [],
      "source": [
        "# train_df.signal_len.min(), train_df.signal_len.max()"
      ]
    },
    {
      "cell_type": "code",
      "execution_count": null,
      "id": "6686560e",
      "metadata": {
        "execution": {
          "iopub.execute_input": "2022-03-24T06:01:59.747875Z",
          "iopub.status.busy": "2022-03-24T06:01:59.747136Z",
          "iopub.status.idle": "2022-03-24T06:01:59.749200Z",
          "shell.execute_reply": "2022-03-24T06:01:59.749605Z",
          "shell.execute_reply.started": "2022-03-24T05:58:36.688302Z"
        },
        "papermill": {
          "duration": 0.080455,
          "end_time": "2022-03-24T06:01:59.749736",
          "exception": false,
          "start_time": "2022-03-24T06:01:59.669281",
          "status": "completed"
        },
        "tags": [],
        "id": "6686560e"
      },
      "outputs": [],
      "source": [
        "# f, ax = plt.subplots(figsize=(15,8))\n",
        "# sns.distplot(train_df.signal_len, ax=ax)"
      ]
    },
    {
      "cell_type": "markdown",
      "id": "7d1979a1",
      "metadata": {
        "papermill": {
          "duration": 0.075989,
          "end_time": "2022-03-24T06:01:59.900852",
          "exception": false,
          "start_time": "2022-03-24T06:01:59.824863",
          "status": "completed"
        },
        "tags": [],
        "id": "7d1979a1"
      },
      "source": [
        "we need to have signal length to be of same size. So we will either pad the signal or truncate the signal."
      ]
    },
    {
      "cell_type": "code",
      "execution_count": null,
      "id": "b9abf925",
      "metadata": {
        "execution": {
          "iopub.execute_input": "2022-03-24T06:02:00.058293Z",
          "iopub.status.busy": "2022-03-24T06:02:00.057489Z",
          "iopub.status.idle": "2022-03-24T06:02:00.059577Z",
          "shell.execute_reply": "2022-03-24T06:02:00.059948Z",
          "shell.execute_reply.started": "2022-03-24T05:58:36.695663Z"
        },
        "papermill": {
          "duration": 0.084347,
          "end_time": "2022-03-24T06:02:00.060080",
          "exception": false,
          "start_time": "2022-03-24T06:01:59.975733",
          "status": "completed"
        },
        "tags": [],
        "id": "b9abf925"
      },
      "outputs": [],
      "source": [
        "# Let's consider the length of all videos to be 10 seconds (A hyperparam - to be tuned)\n",
        "max_len_ms = 10000 # 10k milliseconds ~ 10 seconds\n",
        "\n",
        "def pad_signal(aud, max_len_ms):\n",
        "    sig, sr = aud\n",
        "    num_channels, sig_len = sig.shape\n",
        "    max_len = sr // 1000 * max_len_ms\n",
        "    \n",
        "    if sig_len > max_len:\n",
        "        sig = sig[:, :max_len]\n",
        "    elif sig_len < max_len:\n",
        "        # padding both sides of the signal\n",
        "        pad_begin_len = random.randint(0, max_len - sig_len)\n",
        "        pad_end_len = max_len - sig_len - pad_begin_len\n",
        "        \n",
        "        # pad with zeros\n",
        "        pad_begin = torch.zeros((num_channels, pad_begin_len))\n",
        "        pad_end = torch.zeros((num_channels, pad_end_len))\n",
        "        \n",
        "        sig = torch.cat((pad_begin, sig, pad_end), 1)\n",
        "    \n",
        "    return (sig, sr)"
      ]
    },
    {
      "cell_type": "markdown",
      "source": [
        "# Data Augmentation on raw audio\n",
        "下記リンクから実装内容を選択<br>\n",
        "https://github.com/iver56/audiomentations/tree/master/audiomentations/augmentations"
      ],
      "metadata": {
        "id": "OJrEorp0VBkJ"
      },
      "id": "OJrEorp0VBkJ"
    },
    {
      "cell_type": "code",
      "source": [
        "augment = Compose([\n",
        "    AddGaussianNoise(min_amplitude=0.001, max_amplitude=0.015, p=0.5),\n",
        "    #TimeStretch(min_rate=0.8, max_rate=1.25, p=0.5),\n",
        "    #PitchShift(min_semitones=-4, max_semitones=4, p=0.5),\n",
        "    #Shift(min_fraction=-0.5, max_fraction=0.5, p=0.5), \n",
        "])"
      ],
      "metadata": {
        "id": "x6SEGfBEVkgj"
      },
      "id": "x6SEGfBEVkgj",
      "execution_count": null,
      "outputs": []
    },
    {
      "cell_type": "code",
      "execution_count": null,
      "id": "6403bcd7",
      "metadata": {
        "execution": {
          "iopub.execute_input": "2022-03-24T06:02:00.371526Z",
          "iopub.status.busy": "2022-03-24T06:02:00.370796Z",
          "iopub.status.idle": "2022-03-24T06:02:00.373281Z",
          "shell.execute_reply": "2022-03-24T06:02:00.372902Z",
          "shell.execute_reply.started": "2022-03-24T05:58:36.715550Z"
        },
        "papermill": {
          "duration": 0.082411,
          "end_time": "2022-03-24T06:02:00.373399",
          "exception": false,
          "start_time": "2022-03-24T06:02:00.290988",
          "status": "completed"
        },
        "tags": [],
        "id": "6403bcd7"
      },
      "outputs": [],
      "source": [
        "# Convert augmented audio to Mel Spectrogram\n",
        "def mel_spec(aug_data, n_mels=64, n_fft=1024, hop_len=None):\n",
        "    sig = aug_data\n",
        "    sr = audio[1]\n",
        "    top_db = 80\n",
        "    \n",
        "    spec = transforms.MelSpectrogram(sr, n_fft=n_fft, hop_length=hop_len, n_mels=n_mels)(sig)\n",
        "    # shape of spec: (channels, n_mels, time)\n",
        "    \n",
        "    # Convert to decibels\n",
        "    spec = transforms.AmplitudeToDB(top_db=top_db)(spec)\n",
        "    \n",
        "    # Add channel\n",
        "    spec = torch.cat([spec, spec.mean(dim=0, keepdim=True)])\n",
        "    return spec"
      ]
    },
    {
      "cell_type": "code",
      "execution_count": null,
      "id": "47869c9c",
      "metadata": {
        "execution": {
          "iopub.execute_input": "2022-03-24T06:02:00.527852Z",
          "iopub.status.busy": "2022-03-24T06:02:00.527100Z",
          "iopub.status.idle": "2022-03-24T06:02:00.529290Z",
          "shell.execute_reply": "2022-03-24T06:02:00.529757Z",
          "shell.execute_reply.started": "2022-03-24T05:58:36.726290Z"
        },
        "papermill": {
          "duration": 0.082709,
          "end_time": "2022-03-24T06:02:00.529891",
          "exception": false,
          "start_time": "2022-03-24T06:02:00.447182",
          "status": "completed"
        },
        "tags": [],
        "id": "47869c9c"
      },
      "outputs": [],
      "source": [
        "# Data augmentation on mel spectrogram: Time and Frequency Masking\n",
        "def spectro_augment(spec, max_mask_pct=0.1, n_freq_masks=1, n_time_masks=1):\n",
        "    _, n_mels, n_steps = spec.shape\n",
        "    mask_value = spec.mean()\n",
        "    aug_spec = spec\n",
        "    \n",
        "    freq_mask_param = max_mask_pct * n_mels\n",
        "    for _ in range(n_freq_masks):\n",
        "        aug_spec = transforms.FrequencyMasking(freq_mask_param)(aug_spec, mask_value)\n",
        "        \n",
        "    time_mask_param = max_mask_pct * n_steps\n",
        "    for _ in range(n_time_masks):\n",
        "        aug_spec = transforms.TimeMasking(time_mask_param)(aug_spec, mask_value)\n",
        "        \n",
        "    return aug_spec"
      ]
    },
    {
      "cell_type": "markdown",
      "id": "51f6fec3",
      "metadata": {
        "papermill": {
          "duration": 0.074623,
          "end_time": "2022-03-24T06:02:00.679007",
          "exception": false,
          "start_time": "2022-03-24T06:02:00.604384",
          "status": "completed"
        },
        "tags": [],
        "id": "51f6fec3"
      },
      "source": [
        "Preprocessing on one signal sample"
      ]
    },
    {
      "cell_type": "code",
      "execution_count": null,
      "id": "3b7c0c6f",
      "metadata": {
        "execution": {
          "iopub.execute_input": "2022-03-24T06:02:00.835985Z",
          "iopub.status.busy": "2022-03-24T06:02:00.835431Z",
          "iopub.status.idle": "2022-03-24T06:02:01.042822Z",
          "shell.execute_reply": "2022-03-24T06:02:01.042082Z",
          "shell.execute_reply.started": "2022-03-24T05:58:36.736014Z"
        },
        "papermill": {
          "duration": 0.289011,
          "end_time": "2022-03-24T06:02:01.042957",
          "exception": false,
          "start_time": "2022-03-24T06:02:00.753946",
          "status": "completed"
        },
        "tags": [],
        "id": "3b7c0c6f"
      },
      "outputs": [],
      "source": [
        "idx = random.randint(0, len(train_df))\n",
        "filename = train_df.loc[idx,'filename']\n",
        "sig, sr = torchaudio.load(os.path.join(train_audio_dir, filename))\n",
        "audio_sample = (sig, sr)\n",
        "\n",
        "# mono to stereo (if mono)\n",
        "audio = MonoToStereo(audio_sample)\n",
        "\n",
        "# Pad or Truncate\n",
        "audio = pad_signal(audio, max_len_ms)\n",
        "\n",
        "# Augment on raw audio\n",
        "aug_data = augment(audio[0], audio[1])\n",
        "\n",
        "# Convert to Mel Spectrogram\n",
        "spec = mel_spec(aug_data)\n",
        "\n",
        "# resize Mel Spec\n",
        "spec = torchvision.transforms.Resize((224, 224))(spec)\n",
        "\n",
        "# Augment on mel spec\n",
        "aug_spec = spectro_augment(spec)\n",
        "aug_spec.shape"
      ]
    },
    {
      "cell_type": "code",
      "execution_count": null,
      "id": "16784678",
      "metadata": {
        "execution": {
          "iopub.execute_input": "2022-03-24T06:02:01.205174Z",
          "iopub.status.busy": "2022-03-24T06:02:01.204348Z",
          "iopub.status.idle": "2022-03-24T06:02:02.057275Z",
          "shell.execute_reply": "2022-03-24T06:02:02.060883Z",
          "shell.execute_reply.started": "2022-03-24T05:58:36.865273Z"
        },
        "papermill": {
          "duration": 0.942379,
          "end_time": "2022-03-24T06:02:02.061253",
          "exception": false,
          "start_time": "2022-03-24T06:02:01.118874",
          "status": "completed"
        },
        "tags": [],
        "id": "16784678"
      },
      "outputs": [],
      "source": [
        "aug_spec_np = aug_spec.permute(1,2,0).numpy()\n",
        "f, ax = plt.subplots(figsize=(15,8))\n",
        "plt.imshow(aug_spec_np[:, :, 0])\n",
        "plt.show()\n",
        "f, ax = plt.subplots(figsize=(15,8))\n",
        "plt.imshow(aug_spec_np[:, :, 1])\n",
        "plt.show()\n",
        "f, ax = plt.subplots(figsize=(15,8))\n",
        "plt.imshow(aug_spec_np[:, :, 1])\n",
        "plt.show()"
      ]
    },
    {
      "cell_type": "markdown",
      "id": "f8e8d360",
      "metadata": {
        "papermill": {
          "duration": 0.143029,
          "end_time": "2022-03-24T06:02:02.385639",
          "exception": false,
          "start_time": "2022-03-24T06:02:02.242610",
          "status": "completed"
        },
        "tags": [],
        "id": "f8e8d360"
      },
      "source": [
        "# Building Custom Dataset"
      ]
    },
    {
      "cell_type": "code",
      "execution_count": null,
      "id": "b0ccdf35",
      "metadata": {
        "execution": {
          "iopub.execute_input": "2022-03-24T06:02:02.642778Z",
          "iopub.status.busy": "2022-03-24T06:02:02.642032Z",
          "iopub.status.idle": "2022-03-24T06:02:02.644869Z",
          "shell.execute_reply": "2022-03-24T06:02:02.644372Z",
          "shell.execute_reply.started": "2022-03-24T05:58:37.806282Z"
        },
        "papermill": {
          "duration": 0.099447,
          "end_time": "2022-03-24T06:02:02.644981",
          "exception": false,
          "start_time": "2022-03-24T06:02:02.545534",
          "status": "completed"
        },
        "tags": [],
        "id": "b0ccdf35"
      },
      "outputs": [],
      "source": [
        "class CustomDataset(Dataset):\n",
        "    def __init__(self, audio_dir, df, max_len_ms=10000, shift_limit=0.4, input_size=224):\n",
        "        self.train_audio_dir = audio_dir\n",
        "        self.train_df = df\n",
        "        self.max_len_ms = max_len_ms\n",
        "        self.shift_limit = shift_limit\n",
        "        self.input_size = input_size\n",
        "        \n",
        "    def __len__(self):\n",
        "        return len(self.train_df)\n",
        "\n",
        "    def __getitem__(self, index):\n",
        "        filename = self.train_df.loc[index, 'filename']\n",
        "        label = self.train_df.loc[index, 'primary_label']\n",
        "        \n",
        "        sig, sr = torchaudio.load(os.path.join(self.train_audio_dir, filename))\n",
        "        audio = (sig, sr)\n",
        "        \n",
        "        ##################        \n",
        "        # process signal #\n",
        "        ##################\n",
        "        \n",
        "        # mono to stereo (if mono)\n",
        "        audio = MonoToStereo(audio)\n",
        "\n",
        "        # Pad or Truncate\n",
        "        audio = pad_signal(audio, self.max_len_ms)\n",
        "\n",
        "        # Augment raw audio\n",
        "        aug_data = augment(audio[0], audio[1])\n",
        "\n",
        "        # Convert to Mel Spectrogram\n",
        "        spec = mel_spec(aug_data)\n",
        "        \n",
        "        # resize Mel Spec\n",
        "        spec = torchvision.transforms.Resize((self.input_size, self.input_size))(spec)\n",
        "\n",
        "        # Augment mel spec\n",
        "        aug_spec = spectro_augment(spec)\n",
        "        \n",
        "        return aug_spec, torch.tensor(label2id[label])"
      ]
    },
    {
      "cell_type": "code",
      "execution_count": null,
      "id": "db153bb9",
      "metadata": {
        "execution": {
          "iopub.execute_input": "2022-03-24T06:02:02.820042Z",
          "iopub.status.busy": "2022-03-24T06:02:02.819251Z",
          "iopub.status.idle": "2022-03-24T06:02:02.822028Z",
          "shell.execute_reply": "2022-03-24T06:02:02.821607Z",
          "shell.execute_reply.started": "2022-03-24T05:58:37.818065Z"
        },
        "papermill": {
          "duration": 0.092823,
          "end_time": "2022-03-24T06:02:02.822137",
          "exception": false,
          "start_time": "2022-03-24T06:02:02.729314",
          "status": "completed"
        },
        "tags": [],
        "id": "db153bb9"
      },
      "outputs": [],
      "source": [
        "max_len_ms = 10000\n",
        "shift_limit = 0.4\n",
        "input_size = 224\n",
        "dataset = CustomDataset(train_audio_dir, train_df, max_len_ms, shift_limit, input_size)"
      ]
    },
    {
      "cell_type": "code",
      "execution_count": null,
      "id": "42675abb",
      "metadata": {
        "execution": {
          "iopub.execute_input": "2022-03-24T06:02:02.996729Z",
          "iopub.status.busy": "2022-03-24T06:02:02.995955Z",
          "iopub.status.idle": "2022-03-24T06:02:03.000282Z",
          "shell.execute_reply": "2022-03-24T06:02:02.999871Z",
          "shell.execute_reply.started": "2022-03-24T05:58:37.826301Z"
        },
        "papermill": {
          "duration": 0.093883,
          "end_time": "2022-03-24T06:02:03.000392",
          "exception": false,
          "start_time": "2022-03-24T06:02:02.906509",
          "status": "completed"
        },
        "tags": [],
        "id": "42675abb"
      },
      "outputs": [],
      "source": [
        "train_size = int(0.8 * len(dataset))\n",
        "val_size = len(dataset) - train_size\n",
        "train_dataset, val_dataset = torch.utils.data.random_split(dataset, [train_size, val_size])"
      ]
    },
    {
      "cell_type": "code",
      "execution_count": null,
      "id": "bf2cc4f1",
      "metadata": {
        "execution": {
          "iopub.execute_input": "2022-03-24T06:02:03.174899Z",
          "iopub.status.busy": "2022-03-24T06:02:03.174097Z",
          "iopub.status.idle": "2022-03-24T06:02:03.176598Z",
          "shell.execute_reply": "2022-03-24T06:02:03.176119Z",
          "shell.execute_reply.started": "2022-03-24T05:58:37.838447Z"
        },
        "papermill": {
          "duration": 0.091229,
          "end_time": "2022-03-24T06:02:03.176709",
          "exception": false,
          "start_time": "2022-03-24T06:02:03.085480",
          "status": "completed"
        },
        "tags": [],
        "id": "bf2cc4f1"
      },
      "outputs": [],
      "source": [
        "BATCH_SIZE = 32\n",
        "train_loader = DataLoader(train_dataset, batch_size=BATCH_SIZE, shuffle=True)\n",
        "val_loader = DataLoader(val_dataset, batch_size=BATCH_SIZE, shuffle=False)"
      ]
    },
    {
      "cell_type": "code",
      "execution_count": null,
      "id": "4d2c0c3c",
      "metadata": {
        "execution": {
          "iopub.execute_input": "2022-03-24T06:02:03.352630Z",
          "iopub.status.busy": "2022-03-24T06:02:03.352056Z",
          "iopub.status.idle": "2022-03-24T06:02:06.074003Z",
          "shell.execute_reply": "2022-03-24T06:02:06.073511Z",
          "shell.execute_reply.started": "2022-03-24T05:58:37.845177Z"
        },
        "papermill": {
          "duration": 2.81263,
          "end_time": "2022-03-24T06:02:06.074139",
          "exception": false,
          "start_time": "2022-03-24T06:02:03.261509",
          "status": "completed"
        },
        "tags": [],
        "id": "4d2c0c3c"
      },
      "outputs": [],
      "source": [
        "inputs, targets = next(iter(train_loader))\n",
        "inputs.shape, targets.shape"
      ]
    },
    {
      "cell_type": "markdown",
      "id": "708267d2",
      "metadata": {
        "papermill": {
          "duration": 0.092347,
          "end_time": "2022-03-24T06:02:06.264720",
          "exception": false,
          "start_time": "2022-03-24T06:02:06.172373",
          "status": "completed"
        },
        "tags": [],
        "id": "708267d2"
      },
      "source": [
        "Cool!!"
      ]
    },
    {
      "cell_type": "markdown",
      "id": "6f750765",
      "metadata": {
        "papermill": {
          "duration": 0.087478,
          "end_time": "2022-03-24T06:02:06.445352",
          "exception": false,
          "start_time": "2022-03-24T06:02:06.357874",
          "status": "completed"
        },
        "tags": [],
        "id": "6f750765"
      },
      "source": [
        "Let's build model architecture."
      ]
    },
    {
      "cell_type": "markdown",
      "id": "82b629d6",
      "metadata": {
        "papermill": {
          "duration": 0.085926,
          "end_time": "2022-03-24T06:02:06.618342",
          "exception": false,
          "start_time": "2022-03-24T06:02:06.532416",
          "status": "completed"
        },
        "tags": [],
        "id": "82b629d6"
      },
      "source": [
        "# Model Building"
      ]
    },
    {
      "cell_type": "markdown",
      "source": [
        "### model作成の関数\n",
        "基本的に、モデルを変更する場合はここの修正を行う！"
      ],
      "metadata": {
        "id": "hB3O4Exfe3UN"
      },
      "id": "hB3O4Exfe3UN"
    },
    {
      "cell_type": "code",
      "source": [
        "def create_model(labels, device):\n",
        "  model = torchvision.models.resnet50(num_classes=len(labels))\n",
        "  model.fc = torch.nn.Sequential(\n",
        "    torch.nn.Linear(\n",
        "        in_features=model.fc.in_features,\n",
        "        out_features=model.fc.out_features\n",
        "    ),\n",
        "    torch.nn.Sigmoid()\n",
        "  )\n",
        "  return model.to(device)"
      ],
      "metadata": {
        "id": "AVfnkoVYeRyW"
      },
      "id": "AVfnkoVYeRyW",
      "execution_count": null,
      "outputs": []
    },
    {
      "cell_type": "markdown",
      "source": [
        "### modelのチェック"
      ],
      "metadata": {
        "id": "b0Bmj01WfAOH"
      },
      "id": "b0Bmj01WfAOH"
    },
    {
      "cell_type": "code",
      "execution_count": null,
      "id": "83e8d690",
      "metadata": {
        "execution": {
          "iopub.execute_input": "2022-03-24T06:02:06.796781Z",
          "iopub.status.busy": "2022-03-24T06:02:06.796209Z",
          "iopub.status.idle": "2022-03-24T06:02:07.170111Z",
          "shell.execute_reply": "2022-03-24T06:02:07.169689Z",
          "shell.execute_reply.started": "2022-03-24T05:58:40.465915Z"
        },
        "papermill": {
          "duration": 0.465379,
          "end_time": "2022-03-24T06:02:07.170232",
          "exception": false,
          "start_time": "2022-03-24T06:02:06.704853",
          "status": "completed"
        },
        "tags": [],
        "id": "83e8d690"
      },
      "outputs": [],
      "source": [
        "model = create_model(labels, 'cpu')\n",
        "model"
      ]
    },
    {
      "cell_type": "code",
      "execution_count": null,
      "id": "70d0d8bf",
      "metadata": {
        "execution": {
          "iopub.execute_input": "2022-03-24T06:02:07.537892Z",
          "iopub.status.busy": "2022-03-24T06:02:07.537337Z",
          "iopub.status.idle": "2022-03-24T06:02:14.241231Z",
          "shell.execute_reply": "2022-03-24T06:02:14.241677Z",
          "shell.execute_reply.started": "2022-03-24T05:58:40.842707Z"
        },
        "papermill": {
          "duration": 6.798692,
          "end_time": "2022-03-24T06:02:14.241841",
          "exception": false,
          "start_time": "2022-03-24T06:02:07.443149",
          "status": "completed"
        },
        "tags": [],
        "id": "70d0d8bf"
      },
      "outputs": [],
      "source": [
        "model.eval()\n",
        "output = model(inputs)\n",
        "output.shape"
      ]
    },
    {
      "cell_type": "code",
      "execution_count": null,
      "id": "4a143705",
      "metadata": {
        "execution": {
          "iopub.execute_input": "2022-03-24T06:02:14.423575Z",
          "iopub.status.busy": "2022-03-24T06:02:14.422709Z",
          "iopub.status.idle": "2022-03-24T06:02:14.424769Z",
          "shell.execute_reply": "2022-03-24T06:02:14.425130Z",
          "shell.execute_reply.started": "2022-03-24T05:58:47.209897Z"
        },
        "papermill": {
          "duration": 0.095948,
          "end_time": "2022-03-24T06:02:14.425266",
          "exception": false,
          "start_time": "2022-03-24T06:02:14.329318",
          "status": "completed"
        },
        "tags": [],
        "id": "4a143705"
      },
      "outputs": [],
      "source": [
        "LERANING_RATE = 1e-4\n",
        "\n",
        "# Defining loss and optimizer\n",
        "criterion = nn.CrossEntropyLoss()\n",
        "optimizer = torch.optim.Adam(model.parameters(), lr=LERANING_RATE)"
      ]
    },
    {
      "cell_type": "markdown",
      "id": "16774d06",
      "metadata": {
        "papermill": {
          "duration": 0.086552,
          "end_time": "2022-03-24T06:02:14.598561",
          "exception": false,
          "start_time": "2022-03-24T06:02:14.512009",
          "status": "completed"
        },
        "tags": [],
        "id": "16774d06"
      },
      "source": [
        "# Model Training"
      ]
    },
    {
      "cell_type": "code",
      "execution_count": null,
      "id": "52ebb561",
      "metadata": {
        "execution": {
          "iopub.execute_input": "2022-03-24T06:02:14.781865Z",
          "iopub.status.busy": "2022-03-24T06:02:14.781014Z",
          "iopub.status.idle": "2022-03-24T06:02:14.783469Z",
          "shell.execute_reply": "2022-03-24T06:02:14.783046Z",
          "shell.execute_reply.started": "2022-03-24T05:58:47.217971Z"
        },
        "papermill": {
          "duration": 0.097539,
          "end_time": "2022-03-24T06:02:14.783594",
          "exception": false,
          "start_time": "2022-03-24T06:02:14.686055",
          "status": "completed"
        },
        "tags": [],
        "id": "52ebb561"
      },
      "outputs": [],
      "source": [
        "def train_epoch(model, data_loader, device, criterion, optimizer):\n",
        "    model.train()\n",
        "\n",
        "    losses = []\n",
        "    correct = 0\n",
        "    total = 0\n",
        "\n",
        "    for batch_idx, (x, y) in enumerate(tqdm(data_loader)):\n",
        "        x = x.to(device) \n",
        "        y = y.to(device) \n",
        "\n",
        "        output = model(x)\n",
        "\n",
        "        loss = criterion(output, y)\n",
        "\n",
        "        losses.append(loss.item())\n",
        "\n",
        "        optimizer.zero_grad()\n",
        "        loss.backward()\n",
        "        optimizer.step()\n",
        "\n",
        "        _, preds = torch.max(output, dim=1)\n",
        "        correct += (preds.cpu() == y.cpu()).sum().item()\n",
        "        total += preds.size(0)\n",
        "\n",
        "    acc = (correct * 1.0) / total\n",
        "\n",
        "    return acc, np.mean(losses)"
      ]
    },
    {
      "cell_type": "code",
      "execution_count": null,
      "id": "757ec060",
      "metadata": {
        "execution": {
          "iopub.execute_input": "2022-03-24T06:02:14.967257Z",
          "iopub.status.busy": "2022-03-24T06:02:14.966465Z",
          "iopub.status.idle": "2022-03-24T06:02:14.968539Z",
          "shell.execute_reply": "2022-03-24T06:02:14.968906Z",
          "shell.execute_reply.started": "2022-03-24T05:58:47.228593Z"
        },
        "papermill": {
          "duration": 0.097632,
          "end_time": "2022-03-24T06:02:14.969044",
          "exception": false,
          "start_time": "2022-03-24T06:02:14.871412",
          "status": "completed"
        },
        "tags": [],
        "id": "757ec060"
      },
      "outputs": [],
      "source": [
        "def val_epoch(model, data_loader, device, criterion):\n",
        "    model.eval()\n",
        "\n",
        "    losses = []\n",
        "    correct = 0\n",
        "    total = 0\n",
        "    with torch.no_grad():\n",
        "        for batch_idx, (x, y) in enumerate(tqdm(data_loader)):\n",
        "            x = x.to(device) \n",
        "            y = y.to(device) \n",
        "\n",
        "            output = model(x)\n",
        "\n",
        "            loss = criterion(output, y)\n",
        "\n",
        "            losses.append(loss.item())\n",
        "\n",
        "            _, preds = torch.max(output, dim=1)\n",
        "            correct += (preds.cpu() == y.cpu()).sum().item()\n",
        "            total += preds.size(0)\n",
        "\n",
        "    acc = (correct * 1.0) / total\n",
        "\n",
        "    return acc, np.mean(losses)"
      ]
    },
    {
      "cell_type": "code",
      "execution_count": null,
      "id": "2b572fcd",
      "metadata": {
        "execution": {
          "iopub.execute_input": "2022-03-24T06:02:15.153536Z",
          "iopub.status.busy": "2022-03-24T06:02:15.152671Z",
          "iopub.status.idle": "2022-03-24T06:02:15.154562Z",
          "shell.execute_reply": "2022-03-24T06:02:15.154962Z",
          "shell.execute_reply.started": "2022-03-24T05:58:47.238775Z"
        },
        "papermill": {
          "duration": 0.097599,
          "end_time": "2022-03-24T06:02:15.155092",
          "exception": false,
          "start_time": "2022-03-24T06:02:15.057493",
          "status": "completed"
        },
        "tags": [],
        "id": "2b572fcd"
      },
      "outputs": [],
      "source": [
        "def train(model, epochs, device, train_loader, val_loader, criterion, optimizer, model_name):\n",
        "    history = defaultdict(list)\n",
        "\n",
        "    best_val_acc = 0\n",
        "\n",
        "    for epoch in range(epochs):\n",
        "        print(f'Epoch: {epoch + 1}/{epochs}')\n",
        "        print('-' * 10)\n",
        "        print('Training')\n",
        "        train_acc, train_loss = train_epoch(model, train_loader, device, criterion, optimizer)\n",
        "        print('\\nValidating')\n",
        "        val_acc, val_loss = val_epoch(model, val_loader, device, criterion)\n",
        "\n",
        "        print(f'\\nTrain Loss: {train_loss}\\tTrain Acc: {train_acc}')\n",
        "        print(f'Val Loss: {val_loss}\\tVal Acc: {val_acc}')\n",
        "\n",
        "        history['train_loss'].append(train_loss)\n",
        "        history['train_acc'].append(train_acc)\n",
        "        history['val_loss'].append(val_loss)\n",
        "        history['val_acc'].append(val_acc)\n",
        "\n",
        "        if val_acc > best_val_acc:\n",
        "            best_val_acc = val_acc\n",
        "            torch.save(model.state_dict(), model_name)\n",
        "\n",
        "    return history"
      ]
    },
    {
      "cell_type": "code",
      "execution_count": null,
      "id": "c9a759a1",
      "metadata": {
        "execution": {
          "iopub.execute_input": "2022-03-24T06:02:15.370542Z",
          "iopub.status.busy": "2022-03-24T06:02:15.369913Z",
          "iopub.status.idle": "2022-03-24T06:02:15.374304Z",
          "shell.execute_reply": "2022-03-24T06:02:15.373758Z",
          "shell.execute_reply.started": "2022-03-24T05:58:47.249965Z"
        },
        "papermill": {
          "duration": 0.131926,
          "end_time": "2022-03-24T06:02:15.374437",
          "exception": false,
          "start_time": "2022-03-24T06:02:15.242511",
          "status": "completed"
        },
        "tags": [],
        "id": "c9a759a1"
      },
      "outputs": [],
      "source": [
        "EPOCHS = 10\n",
        "DEVICE = 'cuda' if torch.cuda.is_available() else 'cpu'"
      ]
    },
    {
      "cell_type": "code",
      "source": [
        "# modelの上書きを防ぐため、指定した名前or日付をつける\n",
        "suffix = None # 日付以外の名前を付けたい場合はここを適当な文字列に変更\n",
        "suffix = suffix or datetime.now().strftime(\"%Y%m%d%H%M\")\n",
        "model_name = os.path.join(model_dir, f\"best_model_{suffix}.pth.tar\")"
      ],
      "metadata": {
        "id": "d9NfpxqVY7e1"
      },
      "id": "d9NfpxqVY7e1",
      "execution_count": null,
      "outputs": []
    },
    {
      "cell_type": "code",
      "execution_count": null,
      "id": "8dbc5793",
      "metadata": {
        "execution": {
          "iopub.execute_input": "2022-03-24T06:02:15.558815Z",
          "iopub.status.busy": "2022-03-24T06:02:15.558025Z",
          "iopub.status.idle": "2022-03-24T08:53:08.342970Z",
          "shell.execute_reply": "2022-03-24T08:53:08.343345Z"
        },
        "papermill": {
          "duration": 10252.881092,
          "end_time": "2022-03-24T08:53:08.343548",
          "exception": false,
          "start_time": "2022-03-24T06:02:15.462456",
          "status": "completed"
        },
        "tags": [],
        "id": "8dbc5793"
      },
      "outputs": [],
      "source": [
        "model = model.to(DEVICE)\n",
        "history = train(model, EPOCHS, DEVICE, train_loader, val_loader, criterion, optimizer, model_name)"
      ]
    },
    {
      "cell_type": "markdown",
      "id": "3db2a93e",
      "metadata": {
        "papermill": {
          "duration": 1.333719,
          "end_time": "2022-03-24T08:53:11.072791",
          "exception": false,
          "start_time": "2022-03-24T08:53:09.739072",
          "status": "completed"
        },
        "tags": [],
        "id": "3db2a93e"
      },
      "source": [
        "# Model Testing"
      ]
    },
    {
      "cell_type": "code",
      "execution_count": null,
      "id": "c61a8d9f",
      "metadata": {
        "execution": {
          "iopub.execute_input": "2022-03-24T08:53:13.719497Z",
          "iopub.status.busy": "2022-03-24T08:53:13.718607Z",
          "iopub.status.idle": "2022-03-24T08:53:13.810553Z",
          "shell.execute_reply": "2022-03-24T08:53:13.810996Z"
        },
        "papermill": {
          "duration": 1.425864,
          "end_time": "2022-03-24T08:53:13.811251",
          "exception": false,
          "start_time": "2022-03-24T08:53:12.385387",
          "status": "completed"
        },
        "tags": [],
        "id": "c61a8d9f"
      },
      "outputs": [],
      "source": [
        "model.load_state_dict(torch.load(model_name))"
      ]
    }
  ],
  "metadata": {
    "kernelspec": {
      "display_name": "Python 3",
      "language": "python",
      "name": "python3"
    },
    "language_info": {
      "codemirror_mode": {
        "name": "ipython",
        "version": 3
      },
      "file_extension": ".py",
      "mimetype": "text/x-python",
      "name": "python",
      "nbconvert_exporter": "python",
      "pygments_lexer": "ipython3",
      "version": "3.7.12"
    },
    "papermill": {
      "default_parameters": {},
      "duration": 10321.967406,
      "end_time": "2022-03-24T08:53:42.503490",
      "environment_variables": {},
      "exception": null,
      "input_path": "__notebook__.ipynb",
      "output_path": "__notebook__.ipynb",
      "parameters": {},
      "start_time": "2022-03-24T06:01:40.536084",
      "version": "2.3.3"
    },
    "colab": {
      "name": "train.ipynb",
      "provenance": [],
      "private_outputs": true,
      "include_colab_link": true
    },
    "accelerator": "GPU"
  },
  "nbformat": 4,
  "nbformat_minor": 5
}