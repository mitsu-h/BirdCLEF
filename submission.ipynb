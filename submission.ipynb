{
  "cells": [
    {
      "cell_type": "markdown",
      "metadata": {
        "id": "view-in-github",
        "colab_type": "text"
      },
      "source": [
        "<a href=\"https://colab.research.google.com/github/mitsu-h/BirdCLEF/blob/spec_rgb_softmax/submission.ipynb\" target=\"_parent\"><img src=\"https://colab.research.google.com/assets/colab-badge.svg\" alt=\"Open In Colab\"/></a>"
      ]
    },
    {
      "cell_type": "markdown",
      "source": [
        "# 環境変数の設定\n",
        "- colaboratoryでの動作確認：\"dev\"\n",
        "- Kaggle Notebookでsubmission：\"sub\""
      ],
      "metadata": {
        "id": "Q1nZ2m29qyWI"
      },
      "id": "Q1nZ2m29qyWI"
    },
    {
      "cell_type": "code",
      "source": [
        "ENV=\"dev\"\n",
        "model_name = \"best_model_202204040626.pth.tar\""
      ],
      "metadata": {
        "id": "5B-4nSlxrLpa"
      },
      "id": "5B-4nSlxrLpa",
      "execution_count": null,
      "outputs": []
    },
    {
      "cell_type": "markdown",
      "source": [
        "以下で変数の設定"
      ],
      "metadata": {
        "id": "MXmL8oAps6C-"
      },
      "id": "MXmL8oAps6C-"
    },
    {
      "cell_type": "code",
      "source": [
        "import os\n",
        "if ENV == \"dev\":\n",
        "  from google.colab import drive\n",
        "  drive.mount('/content/drive')\n",
        "  root_dir=\"/content/drive/MyDrive/colab/BirdCLEF/\"\n",
        "  data_dir= os.path.join(root_dir, \"inputs/\")\n",
        "  model_path = os.path.join(root_dir, \"models/\",model_name)\n",
        "else:\n",
        "  root_dir= \"../input/\"\n",
        "  data_dir = os.path.join(root_dir, \"birdclef-2022/\")\n",
        "  model_path = os.path.join(root_dir,\"pretrained-model/\", model_name)\n"
      ],
      "metadata": {
        "id": "7bbowU5JtBnP"
      },
      "id": "7bbowU5JtBnP",
      "execution_count": null,
      "outputs": []
    },
    {
      "cell_type": "markdown",
      "id": "f66c33fa",
      "metadata": {
        "papermill": {
          "duration": 0.052292,
          "end_time": "2022-03-24T06:01:48.721975",
          "exception": false,
          "start_time": "2022-03-24T06:01:48.669683",
          "status": "completed"
        },
        "tags": [],
        "id": "f66c33fa"
      },
      "source": [
        "# Import Libraries"
      ]
    },
    {
      "cell_type": "code",
      "execution_count": null,
      "id": "bf08e367",
      "metadata": {
        "_cell_guid": "b1076dfc-b9ad-4769-8c92-a6c4dae69d19",
        "_uuid": "8f2839f25d086af736a60e9eeb907d3b93b6e0e5",
        "execution": {
          "iopub.execute_input": "2022-03-24T06:01:52.386927Z",
          "iopub.status.busy": "2022-03-24T06:01:52.386146Z",
          "iopub.status.idle": "2022-03-24T06:01:54.792502Z",
          "shell.execute_reply": "2022-03-24T06:01:54.793261Z",
          "shell.execute_reply.started": "2022-03-24T05:58:36.159113Z"
        },
        "papermill": {
          "duration": 2.494431,
          "end_time": "2022-03-24T06:01:54.793470",
          "exception": false,
          "start_time": "2022-03-24T06:01:52.299039",
          "status": "completed"
        },
        "tags": [],
        "id": "bf08e367"
      },
      "outputs": [],
      "source": [
        "import os\n",
        "import random\n",
        "import numpy as np\n",
        "import pandas as pd\n",
        "import matplotlib.pyplot as plt\n",
        "import seaborn as sns\n",
        "import soundfile as sf\n",
        "\n",
        "from sklearn.metrics import f1_score\n",
        "\n",
        "import torchaudio\n",
        "from torchaudio import transforms\n",
        "import torchvision\n",
        "\n",
        "import torch\n",
        "import torch.nn as nn\n",
        "from torch.utils.data import Dataset, DataLoader\n",
        "\n",
        "from tqdm import tqdm\n",
        "from collections import defaultdict\n",
        "\n",
        "import warnings\n",
        "warnings.filterwarnings('ignore')"
      ]
    },
    {
      "cell_type": "markdown",
      "source": [
        "### シード固定"
      ],
      "metadata": {
        "id": "9Wm8v2Zj20Do"
      },
      "id": "9Wm8v2Zj20Do"
    },
    {
      "cell_type": "code",
      "source": [
        "def torch_fix_seed(seed=42):\n",
        "    # Python random\n",
        "    random.seed(seed)\n",
        "    # Numpy\n",
        "    np.random.seed(seed)\n",
        "    # Pytorch\n",
        "    torch.manual_seed(seed)\n",
        "    torch.cuda.manual_seed(seed)\n",
        "    torch.backends.cudnn.deterministic = True\n",
        "    torch.use_deterministic_algorithms = True\n",
        "\n",
        "\n",
        "torch_fix_seed()"
      ],
      "metadata": {
        "id": "tvHifIWc2zD-"
      },
      "id": "tvHifIWc2zD-",
      "execution_count": null,
      "outputs": []
    },
    {
      "cell_type": "markdown",
      "id": "9c7b8a33",
      "metadata": {
        "papermill": {
          "duration": 0.072465,
          "end_time": "2022-03-24T06:01:54.937721",
          "exception": false,
          "start_time": "2022-03-24T06:01:54.865256",
          "status": "completed"
        },
        "tags": [],
        "id": "9c7b8a33"
      },
      "source": [
        "# Load Data"
      ]
    },
    {
      "cell_type": "code",
      "execution_count": null,
      "id": "10cdb6df",
      "metadata": {
        "execution": {
          "iopub.execute_input": "2022-03-24T06:01:55.084919Z",
          "iopub.status.busy": "2022-03-24T06:01:55.084336Z",
          "iopub.status.idle": "2022-03-24T06:01:55.197264Z",
          "shell.execute_reply": "2022-03-24T06:01:55.197704Z",
          "shell.execute_reply.started": "2022-03-24T05:58:36.166571Z"
        },
        "papermill": {
          "duration": 0.189177,
          "end_time": "2022-03-24T06:01:55.197851",
          "exception": false,
          "start_time": "2022-03-24T06:01:55.008674",
          "status": "completed"
        },
        "tags": [],
        "id": "10cdb6df"
      },
      "outputs": [],
      "source": [
        "train_df = pd.read_csv(os.path.join(data_dir, 'train_metadata.csv'))\n",
        "# train_df.head()"
      ]
    },
    {
      "cell_type": "code",
      "execution_count": null,
      "metadata": {
        "execution": {
          "iopub.execute_input": "2022-03-24T06:01:56.941904Z",
          "iopub.status.busy": "2022-03-24T06:01:56.941149Z",
          "iopub.status.idle": "2022-03-24T06:01:56.944421Z",
          "shell.execute_reply": "2022-03-24T06:01:56.944030Z",
          "shell.execute_reply.started": "2022-03-24T05:58:36.576664Z"
        },
        "papermill": {
          "duration": 0.082325,
          "end_time": "2022-03-24T06:01:56.944561",
          "exception": false,
          "start_time": "2022-03-24T06:01:56.862236",
          "status": "completed"
        },
        "tags": [],
        "id": "4426f985"
      },
      "outputs": [],
      "source": [
        "train_df = train_df[train_df.rating >= 3.0]"
      ],
      "id": "4426f985"
    },
    {
      "cell_type": "code",
      "execution_count": null,
      "metadata": {
        "execution": {
          "iopub.execute_input": "2022-03-24T06:01:57.104915Z",
          "iopub.status.busy": "2022-03-24T06:01:57.104252Z",
          "iopub.status.idle": "2022-03-24T06:01:57.107155Z",
          "shell.execute_reply": "2022-03-24T06:01:57.107573Z",
          "shell.execute_reply.started": "2022-03-24T05:58:36.586679Z"
        },
        "papermill": {
          "duration": 0.08958,
          "end_time": "2022-03-24T06:01:57.107710",
          "exception": false,
          "start_time": "2022-03-24T06:01:57.018130",
          "status": "completed"
        },
        "tags": [],
        "id": "c52a4fb3"
      },
      "outputs": [],
      "source": [
        "train_df = train_df.reset_index(drop=True)\n",
        "train_df.head()"
      ],
      "id": "c52a4fb3"
    },
    {
      "cell_type": "code",
      "source": [
        "labels = train_df.primary_label.unique().tolist()"
      ],
      "metadata": {
        "execution": {
          "iopub.status.busy": "2022-03-23T04:14:27.931805Z",
          "iopub.execute_input": "2022-03-23T04:14:27.932259Z",
          "iopub.status.idle": "2022-03-23T04:14:27.937796Z",
          "shell.execute_reply.started": "2022-03-23T04:14:27.932203Z",
          "shell.execute_reply": "2022-03-23T04:14:27.937099Z"
        },
        "trusted": true,
        "id": "7qvv2HEosrSu"
      },
      "execution_count": null,
      "outputs": [],
      "id": "7qvv2HEosrSu"
    },
    {
      "cell_type": "code",
      "source": [
        "label2id = {labels[i]: i for i in range(len(labels))}"
      ],
      "metadata": {
        "execution": {
          "iopub.status.busy": "2022-03-23T04:14:27.941822Z",
          "iopub.execute_input": "2022-03-23T04:14:27.942205Z",
          "iopub.status.idle": "2022-03-23T04:14:27.947458Z",
          "shell.execute_reply.started": "2022-03-23T04:14:27.942178Z",
          "shell.execute_reply": "2022-03-23T04:14:27.945820Z"
        },
        "trusted": true,
        "id": "RfaGQJ_5srSu"
      },
      "execution_count": null,
      "outputs": [],
      "id": "RfaGQJ_5srSu"
    },
    {
      "cell_type": "markdown",
      "metadata": {
        "papermill": {
          "duration": 0.079659,
          "end_time": "2022-03-24T06:01:59.275640",
          "exception": false,
          "start_time": "2022-03-24T06:01:59.195981",
          "status": "completed"
        },
        "tags": [],
        "id": "26b283b4"
      },
      "source": [
        "There are more number of two channel audios. So we will convert mono (1 channel ) audio to stereo (2 channel) audio by replication."
      ],
      "id": "26b283b4"
    },
    {
      "cell_type": "code",
      "execution_count": null,
      "metadata": {
        "execution": {
          "iopub.execute_input": "2022-03-24T06:01:59.438976Z",
          "iopub.status.busy": "2022-03-24T06:01:59.438154Z",
          "iopub.status.idle": "2022-03-24T06:01:59.439966Z",
          "shell.execute_reply": "2022-03-24T06:01:59.440364Z",
          "shell.execute_reply.started": "2022-03-24T05:58:36.668498Z"
        },
        "papermill": {
          "duration": 0.081678,
          "end_time": "2022-03-24T06:01:59.440521",
          "exception": false,
          "start_time": "2022-03-24T06:01:59.358843",
          "status": "completed"
        },
        "tags": [],
        "id": "8ae6d64f"
      },
      "outputs": [],
      "source": [
        "def MonoToStereo(aud, num_channel=2):\n",
        "    sig, sr = aud\n",
        "    if sig.shape[0] == num_channel:\n",
        "        return aud\n",
        "    else:\n",
        "        stereo_sig = torch.cat([sig, sig])\n",
        "    \n",
        "    return (stereo_sig, sr)"
      ],
      "id": "8ae6d64f"
    },
    {
      "cell_type": "markdown",
      "metadata": {
        "papermill": {
          "duration": 0.075989,
          "end_time": "2022-03-24T06:01:59.900852",
          "exception": false,
          "start_time": "2022-03-24T06:01:59.824863",
          "status": "completed"
        },
        "tags": [],
        "id": "7d1979a1"
      },
      "source": [
        "we need to have signal length to be of same size. So we will either pad the signal or truncate the signal."
      ],
      "id": "7d1979a1"
    },
    {
      "cell_type": "code",
      "execution_count": null,
      "metadata": {
        "execution": {
          "iopub.execute_input": "2022-03-24T06:02:00.058293Z",
          "iopub.status.busy": "2022-03-24T06:02:00.057489Z",
          "iopub.status.idle": "2022-03-24T06:02:00.059577Z",
          "shell.execute_reply": "2022-03-24T06:02:00.059948Z",
          "shell.execute_reply.started": "2022-03-24T05:58:36.695663Z"
        },
        "papermill": {
          "duration": 0.084347,
          "end_time": "2022-03-24T06:02:00.060080",
          "exception": false,
          "start_time": "2022-03-24T06:01:59.975733",
          "status": "completed"
        },
        "tags": [],
        "id": "b9abf925"
      },
      "outputs": [],
      "source": [
        "# Let's consider the length of all videos to be 10 seconds (A hyperparam - to be tuned)\n",
        "max_len_ms = 10000 # 10k milliseconds ~ 10 seconds\n",
        "\n",
        "def pad_signal(aud, max_len_ms):\n",
        "    sig, sr = aud\n",
        "    num_channels, sig_len = sig.shape\n",
        "    max_len = sr // 1000 * max_len_ms\n",
        "    \n",
        "    if sig_len > max_len:\n",
        "        sig = sig[:, :max_len]\n",
        "    elif sig_len < max_len:\n",
        "        # padding both sides of the signal\n",
        "        pad_begin_len = random.randint(0, max_len - sig_len)\n",
        "        pad_end_len = max_len - sig_len - pad_begin_len\n",
        "        \n",
        "        # pad with zeros\n",
        "        pad_begin = torch.zeros((num_channels, pad_begin_len))\n",
        "        pad_end = torch.zeros((num_channels, pad_end_len))\n",
        "        \n",
        "        sig = torch.cat((pad_begin, sig, pad_end), 1)\n",
        "    \n",
        "    return (sig, sr)"
      ],
      "id": "b9abf925"
    },
    {
      "cell_type": "code",
      "execution_count": null,
      "metadata": {
        "execution": {
          "iopub.execute_input": "2022-03-24T06:02:00.214626Z",
          "iopub.status.busy": "2022-03-24T06:02:00.213910Z",
          "iopub.status.idle": "2022-03-24T06:02:00.216435Z",
          "shell.execute_reply": "2022-03-24T06:02:00.216042Z",
          "shell.execute_reply.started": "2022-03-24T05:58:36.709420Z"
        },
        "papermill": {
          "duration": 0.081714,
          "end_time": "2022-03-24T06:02:00.216571",
          "exception": false,
          "start_time": "2022-03-24T06:02:00.134857",
          "status": "completed"
        },
        "tags": [],
        "id": "29243f4c"
      },
      "outputs": [],
      "source": [
        "# Data Augmentation on raw audio: Time shift\n",
        "def time_shift(aud, shift_limit):\n",
        "    sig, sr = aud\n",
        "    _, sig_len = sig.shape\n",
        "    shift_amt = int(random.random() * shift_limit * sig_len)\n",
        "    return (sig.roll(shift_amt), sr)"
      ],
      "id": "29243f4c"
    },
    {
      "cell_type": "code",
      "execution_count": null,
      "metadata": {
        "execution": {
          "iopub.execute_input": "2022-03-24T06:02:00.371526Z",
          "iopub.status.busy": "2022-03-24T06:02:00.370796Z",
          "iopub.status.idle": "2022-03-24T06:02:00.373281Z",
          "shell.execute_reply": "2022-03-24T06:02:00.372902Z",
          "shell.execute_reply.started": "2022-03-24T05:58:36.715550Z"
        },
        "papermill": {
          "duration": 0.082411,
          "end_time": "2022-03-24T06:02:00.373399",
          "exception": false,
          "start_time": "2022-03-24T06:02:00.290988",
          "status": "completed"
        },
        "tags": [],
        "id": "6403bcd7"
      },
      "outputs": [],
      "source": [
        "# Convert augmented audio to Mel Spectrogram\n",
        "def mel_spec(aud, n_mels=128, n_fft=None, hop_len=None):\n",
        "    sig, sr = aud\n",
        "    top_db = 80\n",
        "    n_fft = n_fft or sr // 10\n",
        "    \n",
        "    spec = transforms.MelSpectrogram(sr, n_fft=n_fft, hop_length=hop_len, n_mels=n_mels)(sig)\n",
        "    # shape of spec: (channels, n_mels, time)\n",
        "    \n",
        "    # Convert to decibels\n",
        "    spec = transforms.AmplitudeToDB(top_db=top_db)(spec)\n",
        "    \n",
        "    # Add channel\n",
        "    spec = torch.cat([spec, spec.mean(dim=0, keepdim=True)])\n",
        "    return spec"
      ],
      "id": "6403bcd7"
    },
    {
      "cell_type": "code",
      "source": [
        "def mono_to_color(X, eps=1e-6, mean=None, std=None):\n",
        "    mean = mean or X.mean()\n",
        "    std = std or X.std()\n",
        "    X = (X - mean) / (std + eps)\n",
        "    \n",
        "    _min, _max = X.min(), X.max()\n",
        "\n",
        "    if (_max - _min) > eps:\n",
        "        V = torch.clip(X, _min, _max)\n",
        "        V = 255 * (V - _min) / (_max - _min)\n",
        "        V = V.to(torch.uint8)\n",
        "    else:\n",
        "        V = torch.zeros_like(X, dtype=torch.uint8)\n",
        "\n",
        "    return V\n",
        "\n",
        "def normalize(image):\n",
        "        image = image.to(torch.float32) / 255.0\n",
        "        return image  \n"
      ],
      "metadata": {
        "id": "N55AKb4i0sLT"
      },
      "execution_count": null,
      "outputs": [],
      "id": "N55AKb4i0sLT"
    },
    {
      "cell_type": "code",
      "execution_count": null,
      "metadata": {
        "execution": {
          "iopub.execute_input": "2022-03-24T06:02:00.527852Z",
          "iopub.status.busy": "2022-03-24T06:02:00.527100Z",
          "iopub.status.idle": "2022-03-24T06:02:00.529290Z",
          "shell.execute_reply": "2022-03-24T06:02:00.529757Z",
          "shell.execute_reply.started": "2022-03-24T05:58:36.726290Z"
        },
        "papermill": {
          "duration": 0.082709,
          "end_time": "2022-03-24T06:02:00.529891",
          "exception": false,
          "start_time": "2022-03-24T06:02:00.447182",
          "status": "completed"
        },
        "tags": [],
        "id": "47869c9c"
      },
      "outputs": [],
      "source": [
        "# Data augmentation on mel spectrogram: Time and Frequency Masking\n",
        "def spectro_augment(spec, max_mask_pct=0.1, n_freq_masks=1, n_time_masks=1):\n",
        "    _, n_mels, n_steps = spec.shape\n",
        "    mask_value = spec.mean()\n",
        "    aug_spec = spec\n",
        "    \n",
        "    freq_mask_param = max_mask_pct * n_mels\n",
        "    for _ in range(n_freq_masks):\n",
        "        aug_spec = transforms.FrequencyMasking(freq_mask_param)(aug_spec, mask_value)\n",
        "        \n",
        "    time_mask_param = max_mask_pct * n_steps\n",
        "    for _ in range(n_time_masks):\n",
        "        aug_spec = transforms.TimeMasking(time_mask_param)(aug_spec, mask_value)\n",
        "        \n",
        "    return aug_spec"
      ],
      "id": "47869c9c"
    },
    {
      "cell_type": "markdown",
      "metadata": {
        "papermill": {
          "duration": 0.074623,
          "end_time": "2022-03-24T06:02:00.679007",
          "exception": false,
          "start_time": "2022-03-24T06:02:00.604384",
          "status": "completed"
        },
        "tags": [],
        "id": "51f6fec3"
      },
      "source": [
        "Preprocessing on one signal sample"
      ],
      "id": "51f6fec3"
    },
    {
      "cell_type": "markdown",
      "id": "f8e8d360",
      "metadata": {
        "papermill": {
          "duration": 0.143029,
          "end_time": "2022-03-24T06:02:02.385639",
          "exception": false,
          "start_time": "2022-03-24T06:02:02.242610",
          "status": "completed"
        },
        "tags": [],
        "id": "f8e8d360"
      },
      "source": [
        "# Building Custom Dataset"
      ]
    },
    {
      "cell_type": "code",
      "execution_count": null,
      "id": "b0ccdf35",
      "metadata": {
        "execution": {
          "iopub.execute_input": "2022-03-24T06:02:02.642778Z",
          "iopub.status.busy": "2022-03-24T06:02:02.642032Z",
          "iopub.status.idle": "2022-03-24T06:02:02.644869Z",
          "shell.execute_reply": "2022-03-24T06:02:02.644372Z",
          "shell.execute_reply.started": "2022-03-24T05:58:37.806282Z"
        },
        "papermill": {
          "duration": 0.099447,
          "end_time": "2022-03-24T06:02:02.644981",
          "exception": false,
          "start_time": "2022-03-24T06:02:02.545534",
          "status": "completed"
        },
        "tags": [],
        "id": "b0ccdf35"
      },
      "outputs": [],
      "source": [
        "class CustomDataset(Dataset):\n",
        "    def __init__(self, audio_dir, df, max_len_ms=10000, shift_limit=0.4, input_size=224):\n",
        "        self.train_audio_dir = audio_dir\n",
        "        self.train_df = df\n",
        "        self.max_len_ms = max_len_ms\n",
        "        self.shift_limit = shift_limit\n",
        "        self.input_size = input_size\n",
        "        \n",
        "    def __len__(self):\n",
        "        return len(self.train_df)\n",
        "\n",
        "    def __getitem__(self, index):\n",
        "        filename = self.train_df.loc[index, 'filename']\n",
        "        label = self.train_df.loc[index, 'primary_label']\n",
        "        \n",
        "        sig, sr = torchaudio.load(os.path.join(self.train_audio_dir, filename))\n",
        "        audio = (sig, sr)\n",
        "        \n",
        "        ##################        \n",
        "        # process signal #\n",
        "        ##################\n",
        "        \n",
        "        # mono to stereo (if mono)\n",
        "        audio = MonoToStereo(audio)\n",
        "\n",
        "        # Pad or Truncate\n",
        "        audio = pad_signal(audio, self.max_len_ms)\n",
        "\n",
        "        # Augment raw audio\n",
        "        audio = time_shift(audio, shift_limit=self.shift_limit)\n",
        "\n",
        "        # Convert to Mel Spectrogram\n",
        "        spec = mono_to_color(mel_spec(audio))\n",
        "\n",
        "        # Normarize\n",
        "        spec = normalize(spec)\n",
        "\n",
        "        # Augment mel spec\n",
        "        aug_spec = spectro_augment(spec)\n",
        "        \n",
        "        return aug_spec, torch.tensor(label2id[label])"
      ]
    },
    {
      "cell_type": "code",
      "execution_count": null,
      "id": "db153bb9",
      "metadata": {
        "execution": {
          "iopub.execute_input": "2022-03-24T06:02:02.820042Z",
          "iopub.status.busy": "2022-03-24T06:02:02.819251Z",
          "iopub.status.idle": "2022-03-24T06:02:02.822028Z",
          "shell.execute_reply": "2022-03-24T06:02:02.821607Z",
          "shell.execute_reply.started": "2022-03-24T05:58:37.818065Z"
        },
        "papermill": {
          "duration": 0.092823,
          "end_time": "2022-03-24T06:02:02.822137",
          "exception": false,
          "start_time": "2022-03-24T06:02:02.729314",
          "status": "completed"
        },
        "tags": [],
        "id": "db153bb9"
      },
      "outputs": [],
      "source": [
        "train_audio_dir = os.path.join(data_dir, \"train_audio/\")\n",
        "max_len_ms = 10000\n",
        "shift_limit = 0.4\n",
        "input_size = 224\n",
        "dataset = CustomDataset(train_audio_dir, train_df, max_len_ms, shift_limit, input_size)"
      ]
    },
    {
      "cell_type": "code",
      "execution_count": null,
      "id": "42675abb",
      "metadata": {
        "execution": {
          "iopub.execute_input": "2022-03-24T06:02:02.996729Z",
          "iopub.status.busy": "2022-03-24T06:02:02.995955Z",
          "iopub.status.idle": "2022-03-24T06:02:03.000282Z",
          "shell.execute_reply": "2022-03-24T06:02:02.999871Z",
          "shell.execute_reply.started": "2022-03-24T05:58:37.826301Z"
        },
        "papermill": {
          "duration": 0.093883,
          "end_time": "2022-03-24T06:02:03.000392",
          "exception": false,
          "start_time": "2022-03-24T06:02:02.906509",
          "status": "completed"
        },
        "tags": [],
        "id": "42675abb"
      },
      "outputs": [],
      "source": [
        "train_size = int(0.8 * len(dataset))\n",
        "val_size = len(dataset) - train_size\n",
        "train_dataset, val_dataset = torch.utils.data.random_split(dataset, [train_size, val_size])"
      ]
    },
    {
      "cell_type": "code",
      "execution_count": null,
      "id": "bf2cc4f1",
      "metadata": {
        "execution": {
          "iopub.execute_input": "2022-03-24T06:02:03.174899Z",
          "iopub.status.busy": "2022-03-24T06:02:03.174097Z",
          "iopub.status.idle": "2022-03-24T06:02:03.176598Z",
          "shell.execute_reply": "2022-03-24T06:02:03.176119Z",
          "shell.execute_reply.started": "2022-03-24T05:58:37.838447Z"
        },
        "papermill": {
          "duration": 0.091229,
          "end_time": "2022-03-24T06:02:03.176709",
          "exception": false,
          "start_time": "2022-03-24T06:02:03.085480",
          "status": "completed"
        },
        "tags": [],
        "id": "bf2cc4f1"
      },
      "outputs": [],
      "source": [
        "BATCH_SIZE = 32\n",
        "train_loader = DataLoader(train_dataset, batch_size=BATCH_SIZE, shuffle=True)\n",
        "val_loader = DataLoader(val_dataset, batch_size=BATCH_SIZE, shuffle=False)"
      ]
    },
    {
      "cell_type": "code",
      "execution_count": null,
      "id": "4d2c0c3c",
      "metadata": {
        "execution": {
          "iopub.execute_input": "2022-03-24T06:02:03.352630Z",
          "iopub.status.busy": "2022-03-24T06:02:03.352056Z",
          "iopub.status.idle": "2022-03-24T06:02:06.074003Z",
          "shell.execute_reply": "2022-03-24T06:02:06.073511Z",
          "shell.execute_reply.started": "2022-03-24T05:58:37.845177Z"
        },
        "papermill": {
          "duration": 2.81263,
          "end_time": "2022-03-24T06:02:06.074139",
          "exception": false,
          "start_time": "2022-03-24T06:02:03.261509",
          "status": "completed"
        },
        "tags": [],
        "id": "4d2c0c3c"
      },
      "outputs": [],
      "source": [
        "inputs, targets = next(iter(train_loader))\n",
        "inputs.shape, targets.shape"
      ]
    },
    {
      "cell_type": "markdown",
      "id": "708267d2",
      "metadata": {
        "papermill": {
          "duration": 0.092347,
          "end_time": "2022-03-24T06:02:06.264720",
          "exception": false,
          "start_time": "2022-03-24T06:02:06.172373",
          "status": "completed"
        },
        "tags": [],
        "id": "708267d2"
      },
      "source": [
        "Cool!!"
      ]
    },
    {
      "cell_type": "markdown",
      "id": "6f750765",
      "metadata": {
        "papermill": {
          "duration": 0.087478,
          "end_time": "2022-03-24T06:02:06.445352",
          "exception": false,
          "start_time": "2022-03-24T06:02:06.357874",
          "status": "completed"
        },
        "tags": [],
        "id": "6f750765"
      },
      "source": [
        "Let's build model architecture."
      ]
    },
    {
      "cell_type": "markdown",
      "id": "82b629d6",
      "metadata": {
        "papermill": {
          "duration": 0.085926,
          "end_time": "2022-03-24T06:02:06.618342",
          "exception": false,
          "start_time": "2022-03-24T06:02:06.532416",
          "status": "completed"
        },
        "tags": [],
        "id": "82b629d6"
      },
      "source": [
        "# Model Building"
      ]
    },
    {
      "cell_type": "code",
      "source": [
        "def create_model(labels, device):\n",
        "  model = torchvision.models.resnet50(pretrained=True)\n",
        "  model.fc = torch.nn.Sequential(\n",
        "    torch.nn.Linear(\n",
        "        in_features=model.fc.in_features,\n",
        "        out_features=len(labels)\n",
        "    ),\n",
        "    torch.nn.Softmax()\n",
        "  )\n",
        "  return model.to(device)"
      ],
      "metadata": {
        "id": "AVfnkoVYeRyW"
      },
      "execution_count": null,
      "outputs": [],
      "id": "AVfnkoVYeRyW"
    },
    {
      "cell_type": "code",
      "execution_count": null,
      "id": "83e8d690",
      "metadata": {
        "execution": {
          "iopub.execute_input": "2022-03-24T06:02:06.796781Z",
          "iopub.status.busy": "2022-03-24T06:02:06.796209Z",
          "iopub.status.idle": "2022-03-24T06:02:07.170111Z",
          "shell.execute_reply": "2022-03-24T06:02:07.169689Z",
          "shell.execute_reply.started": "2022-03-24T05:58:40.465915Z"
        },
        "papermill": {
          "duration": 0.465379,
          "end_time": "2022-03-24T06:02:07.170232",
          "exception": false,
          "start_time": "2022-03-24T06:02:06.704853",
          "status": "completed"
        },
        "tags": [],
        "id": "83e8d690"
      },
      "outputs": [],
      "source": [
        "DEVICE = 'cuda' if torch.cuda.is_available() else 'cpu'\n",
        "model = create_model(labels, DEVICE)\n",
        "model"
      ]
    },
    {
      "cell_type": "markdown",
      "id": "3db2a93e",
      "metadata": {
        "papermill": {
          "duration": 1.333719,
          "end_time": "2022-03-24T08:53:11.072791",
          "exception": false,
          "start_time": "2022-03-24T08:53:09.739072",
          "status": "completed"
        },
        "tags": [],
        "id": "3db2a93e"
      },
      "source": [
        "# Model Testing"
      ]
    },
    {
      "cell_type": "code",
      "execution_count": null,
      "id": "c61a8d9f",
      "metadata": {
        "execution": {
          "iopub.execute_input": "2022-03-24T08:53:13.719497Z",
          "iopub.status.busy": "2022-03-24T08:53:13.718607Z",
          "iopub.status.idle": "2022-03-24T08:53:13.810553Z",
          "shell.execute_reply": "2022-03-24T08:53:13.810996Z"
        },
        "papermill": {
          "duration": 1.425864,
          "end_time": "2022-03-24T08:53:13.811251",
          "exception": false,
          "start_time": "2022-03-24T08:53:12.385387",
          "status": "completed"
        },
        "tags": [],
        "id": "c61a8d9f"
      },
      "outputs": [],
      "source": [
        "if DEVICE == \"cpu\":\n",
        "  model.load_state_dict(torch.load(model_path, map_location=torch.device('cpu')))\n",
        "else:\n",
        "  model.load_state_dict(torch.load(model_path))"
      ]
    },
    {
      "cell_type": "markdown",
      "source": [
        "### validationのスコアチェック\n",
        "選択してるモデルのミス防止のため、実行結果を確認する\n",
        "\n",
        "想定よりも実行時間がかかるので、commit & run all時には動かないようにする"
      ],
      "metadata": {
        "id": "JEjrRRRw3og0"
      },
      "id": "JEjrRRRw3og0"
    },
    {
      "cell_type": "code",
      "source": [
        "# 実行したいとき：True, そうでなければFalseとする\n",
        "# TODO: もっと使いやすい実装に修正\n",
        "if True:\n",
        "  device = DEVICE\n",
        "  model.eval()\n",
        "\n",
        "  macro_f1 = 0\n",
        "\n",
        "  with torch.no_grad():\n",
        "      for batch_idx, (x, y) in enumerate(tqdm(val_loader)):\n",
        "          x = x.to(device) \n",
        "          y = y.to(device) \n",
        "\n",
        "          output = model(x)\n",
        "\n",
        "          _, preds = torch.max(output, dim=1)\n",
        "          macro_f1 += f1_score(y.cpu().numpy(),preds.cpu().numpy(), average=\"macro\")\n",
        "          \n",
        "  macro_f1 /= val_size\n",
        "  print(f\"macro f1: {macro_f1}\")"
      ],
      "metadata": {
        "execution": {
          "iopub.status.busy": "2022-03-23T04:28:22.098150Z",
          "iopub.execute_input": "2022-03-23T04:28:22.098341Z",
          "iopub.status.idle": "2022-03-23T04:28:22.107131Z",
          "shell.execute_reply.started": "2022-03-23T04:28:22.098318Z",
          "shell.execute_reply": "2022-03-23T04:28:22.106414Z"
        },
        "trusted": true,
        "id": "FPrSaDO4srS6"
      },
      "execution_count": null,
      "outputs": [],
      "id": "FPrSaDO4srS6"
    },
    {
      "cell_type": "code",
      "execution_count": null,
      "id": "90624c32",
      "metadata": {
        "execution": {
          "iopub.execute_input": "2022-03-24T08:53:16.743573Z",
          "iopub.status.busy": "2022-03-24T08:53:16.742982Z",
          "iopub.status.idle": "2022-03-24T08:53:16.759969Z",
          "shell.execute_reply": "2022-03-24T08:53:16.759487Z"
        },
        "papermill": {
          "duration": 1.628437,
          "end_time": "2022-03-24T08:53:16.760096",
          "exception": false,
          "start_time": "2022-03-24T08:53:15.131659",
          "status": "completed"
        },
        "tags": [],
        "id": "90624c32"
      },
      "outputs": [],
      "source": [
        "test_df = pd.read_csv(os.path.join(data_dir,'test.csv'))\n",
        "sample_sub_df = pd.read_csv(os.path.join(data_dir,'sample_submission.csv'))"
      ]
    },
    {
      "cell_type": "code",
      "execution_count": null,
      "id": "ece7cf70",
      "metadata": {
        "execution": {
          "iopub.execute_input": "2022-03-24T08:53:19.423809Z",
          "iopub.status.busy": "2022-03-24T08:53:19.422920Z",
          "iopub.status.idle": "2022-03-24T08:53:19.425954Z",
          "shell.execute_reply": "2022-03-24T08:53:19.426375Z"
        },
        "papermill": {
          "duration": 1.334831,
          "end_time": "2022-03-24T08:53:19.426530",
          "exception": false,
          "start_time": "2022-03-24T08:53:18.091699",
          "status": "completed"
        },
        "tags": [],
        "id": "ece7cf70"
      },
      "outputs": [],
      "source": [
        "test_df.head()"
      ]
    },
    {
      "cell_type": "code",
      "execution_count": null,
      "id": "f9032b96",
      "metadata": {
        "execution": {
          "iopub.execute_input": "2022-03-24T08:53:22.135341Z",
          "iopub.status.busy": "2022-03-24T08:53:22.134370Z",
          "iopub.status.idle": "2022-03-24T08:53:22.138557Z",
          "shell.execute_reply": "2022-03-24T08:53:22.138136Z"
        },
        "papermill": {
          "duration": 1.344725,
          "end_time": "2022-03-24T08:53:22.138676",
          "exception": false,
          "start_time": "2022-03-24T08:53:20.793951",
          "status": "completed"
        },
        "tags": [],
        "id": "f9032b96"
      },
      "outputs": [],
      "source": [
        "sample_sub_df.head()"
      ]
    },
    {
      "cell_type": "code",
      "execution_count": null,
      "id": "174e1bd5",
      "metadata": {
        "execution": {
          "iopub.execute_input": "2022-03-24T08:53:24.775061Z",
          "iopub.status.busy": "2022-03-24T08:53:24.774462Z",
          "iopub.status.idle": "2022-03-24T08:53:24.786767Z",
          "shell.execute_reply": "2022-03-24T08:53:24.787787Z"
        },
        "papermill": {
          "duration": 1.34562,
          "end_time": "2022-03-24T08:53:24.787971",
          "exception": false,
          "start_time": "2022-03-24T08:53:23.442351",
          "status": "completed"
        },
        "tags": [],
        "id": "174e1bd5"
      },
      "outputs": [],
      "source": [
        "test_audio_dir = os.path.join(data_dir,'test_soundscapes')\n",
        "for idx in tqdm(range(len(test_df))):\n",
        "    audio_id = test_df.loc[idx, 'file_id']\n",
        "    true_label = test_df.loc[idx, 'bird']\n",
        "    end_time = test_df.loc[idx, 'end_time']\n",
        "    \n",
        "    path = os.path.join(test_audio_dir, audio_id, '.ogg')\n",
        "\n",
        "    if os.path.isfile(path):\n",
        "        sig, sr = torchaudio.load(file_pth)\n",
        "        \n",
        "        rows = sig.shape[1] // (32000 *5)\n",
        "        sig = sig.reshape(rows, -1)\n",
        "\n",
        "        row_id = end_time // 5\n",
        "\n",
        "        sig = sig[row_id-1].reshape(1,-1)\n",
        "\n",
        "        audio = MonoToStereo((sig, sr))\n",
        "        audio = pad_signal(audio, 10000)\n",
        "        audio = time_shift(audio, shift_limit=0.4)\n",
        "        spec = mel_spec(audio)\n",
        "        aug_spec = spectro_augment(spec)\n",
        "        aug_spec = aug_spec.unsqueeze(0)\n",
        "        output = model(aug_spec)\n",
        "\n",
        "        _, pred = torch.max(output, dim=1)\n",
        "        if labels[pred] == true_label:\n",
        "            sample_sub_df.loc[idx, 'target'] = True\n",
        "        else:\n",
        "            sample_sub_df.loc[idx, 'target'] = False\n",
        "        \n",
        "    else:\n",
        "        pred = True if random.randint(0,1) else False\n",
        "        sample_sub_df.loc[idx, 'target'] = pred\n",
        "        continue"
      ]
    },
    {
      "cell_type": "markdown",
      "id": "aa43f483",
      "metadata": {
        "papermill": {
          "duration": 1.59351,
          "end_time": "2022-03-24T08:53:27.722900",
          "exception": false,
          "start_time": "2022-03-24T08:53:26.129390",
          "status": "completed"
        },
        "tags": [],
        "id": "aa43f483"
      },
      "source": [
        "# Make submission"
      ]
    },
    {
      "cell_type": "code",
      "execution_count": null,
      "id": "4183785e",
      "metadata": {
        "execution": {
          "iopub.execute_input": "2022-03-24T08:53:30.416989Z",
          "iopub.status.busy": "2022-03-24T08:53:30.416134Z",
          "iopub.status.idle": "2022-03-24T08:53:30.422135Z",
          "shell.execute_reply": "2022-03-24T08:53:30.421698Z"
        },
        "papermill": {
          "duration": 1.382546,
          "end_time": "2022-03-24T08:53:30.422248",
          "exception": false,
          "start_time": "2022-03-24T08:53:29.039702",
          "status": "completed"
        },
        "tags": [],
        "id": "4183785e"
      },
      "outputs": [],
      "source": [
        "sample_sub_df.head()"
      ]
    },
    {
      "cell_type": "code",
      "execution_count": null,
      "id": "389245ca",
      "metadata": {
        "execution": {
          "iopub.execute_input": "2022-03-24T08:53:33.090935Z",
          "iopub.status.busy": "2022-03-24T08:53:33.090333Z",
          "iopub.status.idle": "2022-03-24T08:53:33.098052Z",
          "shell.execute_reply": "2022-03-24T08:53:33.097626Z"
        },
        "papermill": {
          "duration": 1.342274,
          "end_time": "2022-03-24T08:53:33.098160",
          "exception": false,
          "start_time": "2022-03-24T08:53:31.755886",
          "status": "completed"
        },
        "tags": [],
        "id": "389245ca"
      },
      "outputs": [],
      "source": [
        "if ENV==\"sub\":\n",
        "  sample_sub_df.to_csv('submission.csv', index=False)"
      ]
    },
    {
      "cell_type": "code",
      "execution_count": null,
      "id": "f418833c",
      "metadata": {
        "execution": {
          "iopub.execute_input": "2022-03-24T08:53:35.787493Z",
          "iopub.status.busy": "2022-03-24T08:53:35.786801Z",
          "iopub.status.idle": "2022-03-24T08:53:35.790056Z",
          "shell.execute_reply": "2022-03-24T08:53:35.790765Z"
        },
        "papermill": {
          "duration": 1.357877,
          "end_time": "2022-03-24T08:53:35.790986",
          "exception": false,
          "start_time": "2022-03-24T08:53:34.433109",
          "status": "completed"
        },
        "tags": [],
        "id": "f418833c"
      },
      "outputs": [],
      "source": [
        "print('Done!')"
      ]
    }
  ],
  "metadata": {
    "kernelspec": {
      "display_name": "Python 3",
      "language": "python",
      "name": "python3"
    },
    "language_info": {
      "codemirror_mode": {
        "name": "ipython",
        "version": 3
      },
      "file_extension": ".py",
      "mimetype": "text/x-python",
      "name": "python",
      "nbconvert_exporter": "python",
      "pygments_lexer": "ipython3",
      "version": "3.7.12"
    },
    "papermill": {
      "default_parameters": {},
      "duration": 10321.967406,
      "end_time": "2022-03-24T08:53:42.503490",
      "environment_variables": {},
      "exception": null,
      "input_path": "__notebook__.ipynb",
      "output_path": "__notebook__.ipynb",
      "parameters": {},
      "start_time": "2022-03-24T06:01:40.536084",
      "version": "2.3.3"
    },
    "colab": {
      "name": "submission.ipynb",
      "provenance": [],
      "private_outputs": true,
      "include_colab_link": true
    },
    "accelerator": "GPU"
  },
  "nbformat": 4,
  "nbformat_minor": 5
}