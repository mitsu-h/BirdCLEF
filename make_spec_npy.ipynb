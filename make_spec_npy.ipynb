{
  "cells": [
    {
      "cell_type": "markdown",
      "metadata": {
        "id": "view-in-github",
        "colab_type": "text"
      },
      "source": [
        "<a href=\"https://colab.research.google.com/github/mitsu-h/BirdCLEF/blob/load_npy/make_spec_npy.ipynb\" target=\"_parent\"><img src=\"https://colab.research.google.com/assets/colab-badge.svg\" alt=\"Open In Colab\"/></a>"
      ]
    },
    {
      "cell_type": "markdown",
      "id": "f66c33fa",
      "metadata": {
        "papermill": {
          "duration": 0.052292,
          "end_time": "2022-03-24T06:01:48.721975",
          "exception": false,
          "start_time": "2022-03-24T06:01:48.669683",
          "status": "completed"
        },
        "tags": [],
        "id": "f66c33fa"
      },
      "source": [
        "# Import Libraries"
      ]
    },
    {
      "cell_type": "code",
      "execution_count": null,
      "id": "3d0cdc40",
      "metadata": {
        "execution": {
          "iopub.execute_input": "2022-03-24T06:01:48.839653Z",
          "iopub.status.busy": "2022-03-24T06:01:48.838798Z",
          "iopub.status.idle": "2022-03-24T06:01:52.215133Z",
          "shell.execute_reply": "2022-03-24T06:01:52.214312Z",
          "shell.execute_reply.started": "2022-03-24T05:58:34.133375Z"
        },
        "papermill": {
          "duration": 3.440413,
          "end_time": "2022-03-24T06:01:52.215334",
          "exception": false,
          "start_time": "2022-03-24T06:01:48.774921",
          "status": "completed"
        },
        "tags": [],
        "id": "3d0cdc40"
      },
      "outputs": [],
      "source": [
        "# This Python 3 environment comes with many helpful analytics libraries installed\n",
        "# It is defined by the kaggle/python Docker image: https://github.com/kaggle/docker-python\n",
        "# For example, here's several helpful packages to load\n",
        "\n",
        "import numpy as np # linear algebra\n",
        "import pandas as pd # data processing, CSV file I/O (e.g. pd.read_csv)\n",
        "\n",
        "# Input data files are available in the read-only \"../input/\" directory\n",
        "# For example, running this (by clicking run or pressing Shift+Enter) will list all files under the input directory\n",
        "\n",
        "import os\n",
        "for dirname, _, filenames in os.walk('/kaggle/input'):\n",
        "    for filename in filenames:\n",
        "        print(os.path.join(dirname, filename))\n",
        "\n",
        "# You can write up to 20GB to the current directory (/kaggle/working/) that gets preserved as output when you create a version using \"Save & Run All\" \n",
        "# You can also write temporary files to /kaggle/temp/, but they won't be saved outside of the current session"
      ]
    },
    {
      "cell_type": "code",
      "execution_count": null,
      "id": "bf08e367",
      "metadata": {
        "_cell_guid": "b1076dfc-b9ad-4769-8c92-a6c4dae69d19",
        "_uuid": "8f2839f25d086af736a60e9eeb907d3b93b6e0e5",
        "execution": {
          "iopub.execute_input": "2022-03-24T06:01:52.386927Z",
          "iopub.status.busy": "2022-03-24T06:01:52.386146Z",
          "iopub.status.idle": "2022-03-24T06:01:54.792502Z",
          "shell.execute_reply": "2022-03-24T06:01:54.793261Z",
          "shell.execute_reply.started": "2022-03-24T05:58:36.159113Z"
        },
        "papermill": {
          "duration": 2.494431,
          "end_time": "2022-03-24T06:01:54.793470",
          "exception": false,
          "start_time": "2022-03-24T06:01:52.299039",
          "status": "completed"
        },
        "tags": [],
        "id": "bf08e367"
      },
      "outputs": [],
      "source": [
        "import os\n",
        "import random\n",
        "import numpy as np\n",
        "import pandas as pd\n",
        "import matplotlib.pyplot as plt\n",
        "import seaborn as sns\n",
        "from datetime import datetime\n",
        "import librosa\n",
        "import librosa.display\n",
        "import joblib\n",
        "\n",
        "from tqdm import tqdm\n",
        "from collections import defaultdict\n",
        "\n",
        "import warnings\n",
        "warnings.filterwarnings('ignore')"
      ]
    },
    {
      "cell_type": "markdown",
      "id": "9c7b8a33",
      "metadata": {
        "papermill": {
          "duration": 0.072465,
          "end_time": "2022-03-24T06:01:54.937721",
          "exception": false,
          "start_time": "2022-03-24T06:01:54.865256",
          "status": "completed"
        },
        "tags": [],
        "id": "9c7b8a33"
      },
      "source": [
        "# Load Data"
      ]
    },
    {
      "cell_type": "code",
      "source": [
        "from google.colab import drive\n",
        "drive.mount('/content/drive')\n",
        "root_dir=\"/content/drive/MyDrive/colab/BirdCLEF/\"\n",
        "data_dir= os.path.join(root_dir, \"inputs/\")\n",
        "model_dir = os.path.join(root_dir, \"models/\")"
      ],
      "metadata": {
        "id": "0OCleE3RXUQF"
      },
      "id": "0OCleE3RXUQF",
      "execution_count": null,
      "outputs": []
    },
    {
      "cell_type": "code",
      "source": [
        "from googleapiclient.discovery import build\n",
        "import io, os\n",
        "from googleapiclient.http import MediaIoBaseDownload\n",
        "from google.colab import auth\n",
        "\n",
        "auth.authenticate_user()\n",
        "\n",
        "drive_service = build('drive', 'v3')\n",
        "results = drive_service.files().list(\n",
        "        q=\"name = 'kaggle.json'\", fields=\"files(id)\").execute()\n",
        "kaggle_api_key = results.get('files', [])\n",
        "\n",
        "filename = \"/root/.kaggle/kaggle.json\"\n",
        "os.makedirs(os.path.dirname(filename), exist_ok=True)\n",
        "\n",
        "request = drive_service.files().get_media(fileId=kaggle_api_key[0]['id'])\n",
        "fh = io.FileIO(filename, 'wb')\n",
        "downloader = MediaIoBaseDownload(fh, request)\n",
        "done = False\n",
        "while done is False:\n",
        "    status, done = downloader.next_chunk()\n",
        "    print(\"Download %d%%.\" % int(status.progress() * 100))\n",
        "os.chmod(filename, 600)"
      ],
      "metadata": {
        "id": "xllBxUKjaS27"
      },
      "id": "xllBxUKjaS27",
      "execution_count": null,
      "outputs": []
    },
    {
      "cell_type": "code",
      "source": [
        "!kaggle competitions download -c birdclef-2022"
      ],
      "metadata": {
        "id": "0hm4d9GdaBdE"
      },
      "id": "0hm4d9GdaBdE",
      "execution_count": null,
      "outputs": []
    },
    {
      "cell_type": "code",
      "source": [
        "!unzip birdclef-2022.zip"
      ],
      "metadata": {
        "id": "BdEM_bx8a_DQ"
      },
      "id": "BdEM_bx8a_DQ",
      "execution_count": null,
      "outputs": []
    },
    {
      "cell_type": "code",
      "execution_count": null,
      "id": "10cdb6df",
      "metadata": {
        "execution": {
          "iopub.execute_input": "2022-03-24T06:01:55.084919Z",
          "iopub.status.busy": "2022-03-24T06:01:55.084336Z",
          "iopub.status.idle": "2022-03-24T06:01:55.197264Z",
          "shell.execute_reply": "2022-03-24T06:01:55.197704Z",
          "shell.execute_reply.started": "2022-03-24T05:58:36.166571Z"
        },
        "papermill": {
          "duration": 0.189177,
          "end_time": "2022-03-24T06:01:55.197851",
          "exception": false,
          "start_time": "2022-03-24T06:01:55.008674",
          "status": "completed"
        },
        "tags": [],
        "id": "10cdb6df"
      },
      "outputs": [],
      "source": [
        "train_df = pd.read_csv(os.path.join('/content', 'train_metadata.csv'))\n",
        "train_df.head()"
      ]
    },
    {
      "cell_type": "markdown",
      "id": "ef2675f1",
      "metadata": {
        "papermill": {
          "duration": 0.072072,
          "end_time": "2022-03-24T06:01:55.342024",
          "exception": false,
          "start_time": "2022-03-24T06:01:55.269952",
          "status": "completed"
        },
        "tags": [],
        "id": "ef2675f1"
      },
      "source": [
        "# データ加工"
      ]
    },
    {
      "cell_type": "markdown",
      "id": "66b8d58c",
      "metadata": {
        "papermill": {
          "duration": 0.077177,
          "end_time": "2022-03-24T06:01:56.021174",
          "exception": false,
          "start_time": "2022-03-24T06:01:55.943997",
          "status": "completed"
        },
        "tags": [],
        "id": "66b8d58c"
      },
      "source": [
        "指定秒数で音声を切り取るジェネレータ"
      ]
    },
    {
      "cell_type": "code",
      "source": [
        "def cut_audio(sig, sr, cut_sec=5):\n",
        "    cut_len = sr * cut_sec\n",
        "    for i in range(0, len(sig), cut_len):\n",
        "      if i+cut_len <= len(sig):\n",
        "        yield sig[i:i+cut_len]\n",
        "      else:\n",
        "        s = sig[i:-1]\n",
        "        yield np.pad(s, [0, cut_len-len(s)], 'constant')"
      ],
      "metadata": {
        "id": "6W9e6MwSMX_O"
      },
      "id": "6W9e6MwSMX_O",
      "execution_count": null,
      "outputs": []
    },
    {
      "cell_type": "markdown",
      "source": [
        "5秒毎にカットした音声をメルスペクトログラムに変換"
      ],
      "metadata": {
        "id": "dezhfP4QbIsw"
      },
      "id": "dezhfP4QbIsw"
    },
    {
      "cell_type": "code",
      "execution_count": null,
      "id": "6403bcd7",
      "metadata": {
        "execution": {
          "iopub.execute_input": "2022-03-24T06:02:00.371526Z",
          "iopub.status.busy": "2022-03-24T06:02:00.370796Z",
          "iopub.status.idle": "2022-03-24T06:02:00.373281Z",
          "shell.execute_reply": "2022-03-24T06:02:00.372902Z",
          "shell.execute_reply.started": "2022-03-24T05:58:36.715550Z"
        },
        "papermill": {
          "duration": 0.082411,
          "end_time": "2022-03-24T06:02:00.373399",
          "exception": false,
          "start_time": "2022-03-24T06:02:00.290988",
          "status": "completed"
        },
        "tags": [],
        "id": "6403bcd7"
      },
      "outputs": [],
      "source": [
        "# Convert augmented audio to Mel Spectrogram\n",
        "def mel_spec(file_path, n_mels=128, n_fft=None, hop_len=None):\n",
        "    sig, sr = librosa.load(file_path, sr=None)\n",
        "    top_db = 80\n",
        "    n_fft = n_fft or sr // 10\n",
        "    cut_len = sr // 5\n",
        "    \n",
        "    spec = np.stack([librosa.feature.melspectrogram(s, sr, n_fft=n_fft, hop_length=hop_len, n_mels=n_mels) for s in cut_audio(sig, sr)])\n",
        "    \n",
        "    # Convert to decibels\n",
        "    spec = librosa.power_to_db(spec,ref=np.max)\n",
        "\n",
        "    return spec.astype(np.float32)"
      ]
    },
    {
      "cell_type": "markdown",
      "id": "51f6fec3",
      "metadata": {
        "papermill": {
          "duration": 0.074623,
          "end_time": "2022-03-24T06:02:00.679007",
          "exception": false,
          "start_time": "2022-03-24T06:02:00.604384",
          "status": "completed"
        },
        "tags": [],
        "id": "51f6fec3"
      },
      "source": [
        "1データの切り取り、可視化"
      ]
    },
    {
      "cell_type": "code",
      "source": [
        "filename = train_df.loc[0,'filename']\n",
        "file_path = os.path.join('/content', 'train_audio', filename)\n",
        "spec = mel_spec(file_path)\n",
        "spec.shape"
      ],
      "metadata": {
        "id": "ugMWHzhjqXLc"
      },
      "id": "ugMWHzhjqXLc",
      "execution_count": null,
      "outputs": []
    },
    {
      "cell_type": "code",
      "execution_count": null,
      "id": "16784678",
      "metadata": {
        "execution": {
          "iopub.execute_input": "2022-03-24T06:02:01.205174Z",
          "iopub.status.busy": "2022-03-24T06:02:01.204348Z",
          "iopub.status.idle": "2022-03-24T06:02:02.057275Z",
          "shell.execute_reply": "2022-03-24T06:02:02.060883Z",
          "shell.execute_reply.started": "2022-03-24T05:58:36.865273Z"
        },
        "papermill": {
          "duration": 0.942379,
          "end_time": "2022-03-24T06:02:02.061253",
          "exception": false,
          "start_time": "2022-03-24T06:02:01.118874",
          "status": "completed"
        },
        "tags": [],
        "id": "16784678"
      },
      "outputs": [],
      "source": [
        "librosa.display.specshow(spec[0])\n",
        "plt.colorbar()\n",
        "plt.show()\n",
        "librosa.display.specshow(spec[1])\n",
        "plt.show()\n",
        "librosa.display.specshow(spec[2])\n",
        "plt.colorbar()"
      ]
    },
    {
      "cell_type": "code",
      "source": [
        "import IPython.display\n",
        "IPython.display.Audio(file_path)"
      ],
      "metadata": {
        "id": "th4ol163O8Dq"
      },
      "id": "th4ol163O8Dq",
      "execution_count": null,
      "outputs": []
    },
    {
      "cell_type": "markdown",
      "source": [
        "# メルスペクトログラムの保存"
      ],
      "metadata": {
        "id": "08QQrSBFbiQt"
      },
      "id": "08QQrSBFbiQt"
    },
    {
      "cell_type": "code",
      "source": [
        "def save_spec_npy(filename, save_dir='audio_images'):\n",
        "  file_path = os.path.join('/content', 'train_audio', filename)\n",
        "  spec = mel_spec(file_path)\n",
        "\n",
        "  save_path = os.path.join(data_dir, 'audio_images', filename+'.npy')\n",
        "  os.makedirs(os.path.dirname(save_path), exist_ok=True)\n",
        "  np.save(save_path, spec)"
      ],
      "metadata": {
        "id": "ZIAK7KkpS6xk"
      },
      "id": "ZIAK7KkpS6xk",
      "execution_count": null,
      "outputs": []
    },
    {
      "cell_type": "markdown",
      "source": [
        "joblibで並列処理"
      ],
      "metadata": {
        "id": "K6uQchBXbney"
      },
      "id": "K6uQchBXbney"
    },
    {
      "cell_type": "code",
      "source": [
        "pool = joblib.Parallel(4)\n",
        "mapper = joblib.delayed(save_spec_npy)\n",
        "tasks = [mapper(filename) for filename in train_df['filename']]\n",
        "pool(tqdm(tasks))"
      ],
      "metadata": {
        "id": "vyhklDUUTzF6"
      },
      "id": "vyhklDUUTzF6",
      "execution_count": null,
      "outputs": []
    },
    {
      "cell_type": "code",
      "source": [
        "import glob\n",
        "audio_images = glob.glob(os.path.join(data_dir, 'audio_images')+'/*/*.npy')\n",
        "len(audio_images)"
      ],
      "metadata": {
        "id": "16TumUWSgPWZ"
      },
      "id": "16TumUWSgPWZ",
      "execution_count": null,
      "outputs": []
    },
    {
      "cell_type": "code",
      "source": [
        "audio_images"
      ],
      "metadata": {
        "id": "PA9fzavwggSX"
      },
      "id": "PA9fzavwggSX",
      "execution_count": null,
      "outputs": []
    }
  ],
  "metadata": {
    "kernelspec": {
      "display_name": "Python 3",
      "language": "python",
      "name": "python3"
    },
    "language_info": {
      "codemirror_mode": {
        "name": "ipython",
        "version": 3
      },
      "file_extension": ".py",
      "mimetype": "text/x-python",
      "name": "python",
      "nbconvert_exporter": "python",
      "pygments_lexer": "ipython3",
      "version": "3.7.12"
    },
    "papermill": {
      "default_parameters": {},
      "duration": 10321.967406,
      "end_time": "2022-03-24T08:53:42.503490",
      "environment_variables": {},
      "exception": null,
      "input_path": "__notebook__.ipynb",
      "output_path": "__notebook__.ipynb",
      "parameters": {},
      "start_time": "2022-03-24T06:01:40.536084",
      "version": "2.3.3"
    },
    "colab": {
      "name": "make_spec_npy.ipynb",
      "provenance": [],
      "private_outputs": true,
      "machine_shape": "hm",
      "collapsed_sections": [],
      "include_colab_link": true
    }
  },
  "nbformat": 4,
  "nbformat_minor": 5
}